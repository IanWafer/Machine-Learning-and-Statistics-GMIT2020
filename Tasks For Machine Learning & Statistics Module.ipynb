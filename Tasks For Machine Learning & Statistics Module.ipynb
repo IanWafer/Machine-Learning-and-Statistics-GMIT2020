{
 "cells": [
  {
   "cell_type": "markdown",
   "metadata": {},
   "source": [
    "# Task 1 SQRT2()"
   ]
  },
  {
   "cell_type": "markdown",
   "metadata": {},
   "source": [
    "## Introduction\n",
    "\n",
    "We have been tasked with writing a  Python function that calculates the square root of 2 and prints it to the screen to 100 decimal places.\n",
    "\n",
    "The square root of a number is a specified quantity given when multiplied by itself. In mathematics it is generally represented  by the radical sign or radix √. It must be a positive number though in mathematics square roots of negative numbers are sometimes used and  are  known as imaginary numbers. The square root of 2 is known as an irrtaional number as it cannot be expressed as a fraction and has a never ending number of decimal numbers. \n",
    "\n",
    "## History\n",
    "\n",
    "The Pythagorean philosophers had a great focus on numbers and geometry and and guarded it as secret knowledge believeing they wwere gaining insight into  the make up of the universe itself. They believed all numbers were rational and could be expressed as a ratio of integer values. \n",
    "\n",
    "It is believed  that their belief in this concept was so strong that when when Hippasus discovered irrational numbers he was thrown from a boat and left to drown though this  event is seen as more of a myth than concrete factual truth due to conflicting reports from Iamblichus.<sup>[3]</sup>\n",
    "\n",
    "## Limitations\n",
    "\n",
    "Python has some built in limitations on how it runs its calculations. This is due to the fact that Python works on a base 2 system which cannot represent all decimal fractions exactly. This results in decimal floating-point numbers being approximated by the binary number stored. Floats are generally calculated using the first 53 bits beginning with the significant bit with a denominator as a power of 2.\n",
    "\n",
    "This is not a unique feature of a binary system. All base systems have limitations on their accuracies. If we consider our well understood base 10 system the fraction 1/3 can never be brought to it's full decimal representation. It can be shown to be 0.3, 0.33,  0.333 etc. Each additionnal decimal point brings us closer to the true value but we never reach the final value.\n",
    "\n",
    "After some investigation into the limits of Pythons in built functions such as floats only calculating to 53 decimal points it would appear that Newtons Method (or Newton-Raphson method) would be the most accurate form of calculation. <sup>[4]</sup>\n",
    "\n",
    "## Newton-Raphson Method\n",
    "\n",
    "The Newton-Raphson method is an iterative method where each succesive iteration brings the result closer to the true value of the answer after find a suitable starting value. The closer the initially selected value is to the answer the less itteratons  are required to produce the answer.\n",
    "\n",
    "If x = √a for a > 0 then we need to solve for x<sup>2</sup> = a. To start Newtons method of solving this problem we need to have some guess for the value of x where x<sub>1</sub>>0. \n",
    "\n",
    "We can then begin with the first iteration with a single variable function f and an initial guess x<sub>0</sub> \n",
    "\n",
    "![first_iteration.PNG](first_iteration.png)\n",
    "\n",
    "Succesive iterations can then be represented by the formula-\n",
    "\n",
    "![newton_function_formula.PNG](newton_function_formula.png)\n",
    "\n",
    "This can be further developed into the equation below to calculate our new iterative values-\n",
    "\n",
    "![image2.PNG](image2.PNG)\n",
    "\n",
    "Each iteration calculated will bring us closer to the true value required. "
   ]
  },
  {
   "cell_type": "code",
   "execution_count": 1,
   "metadata": {},
   "outputs": [
    {
     "name": "stdout",
     "output_type": "stream",
     "text": [
      "1.414213562373095e+100\n"
     ]
    }
   ],
   "source": [
    "# Python3 implementation of the approach \n",
    "\n",
    "# Function to return the square root of \n",
    "# a number using Newtons method \n",
    "def squareRoot(n, l) : \n",
    "\n",
    "    # Assuming the sqrt of n as n only \n",
    "    n = n * 10 ** 200\n",
    "    x = n \n",
    "\n",
    "    # To count the number of iterations \n",
    "    count = 0\n",
    "\n",
    "    while (1) : \n",
    "        count += 1\n",
    "\n",
    "        # Calculate more closed x \n",
    "        root = 0.5 * (x + (n / x)) \n",
    "\n",
    "        # Check for closeness \n",
    "        if (abs(root - x) < l) : \n",
    "            break\n",
    "\n",
    "        # Update root \n",
    "        x = root \n",
    "\n",
    "    return root \n",
    "\n",
    "# Driver code \n",
    "if __name__ == \"__main__\" : \n",
    "\n",
    "    n = 2\n",
    "    l = 0.000001\n",
    "\n",
    "    print(squareRoot(n, l)) \n",
    "\n",
    "# This code is contributed by AnkitRai01 \n"
   ]
  },
  {
   "cell_type": "code",
   "execution_count": 15,
   "metadata": {},
   "outputs": [],
   "source": [
    "def SQRT(n):\n",
    "    x = n * 10 ** 200 # Value increased to get required precision due to Python limitations\n",
    "\n",
    "    r = x\n",
    "\n",
    "    def test_diffs(x, r):\n",
    "        d0 = abs(x - r**2)     # -2\n",
    "        dm = abs(x - (r-1)**2) # 1\n",
    "        dp = abs(x - (r+1)**2) # -7\n",
    "        minimised = d0 <= dm and d0 <= dp\n",
    "        below_min = dp < dm\n",
    "        return minimised, below_min\n",
    "\n",
    "\n",
    "\n",
    "    while True:\n",
    "        oldr = r\n",
    "        r = (r + x // r) // 2\n",
    "\n",
    "        minimised, below_min = test_diffs(x, r)\n",
    "        if minimised:\n",
    "            break\n",
    "\n",
    "        if r == oldr:\n",
    "            if below_min:\n",
    "                r += 1\n",
    "            else:\n",
    "                r -= 1\n",
    "            minimised, _ = test_diffs(x, r)\n",
    "            if minimised:\n",
    "                break\n",
    "\n",
    "    print(f'{r // 10**100}.{r % 10**100:0100d}')\n"
   ]
  },
  {
   "cell_type": "code",
   "execution_count": 16,
   "metadata": {},
   "outputs": [
    {
     "name": "stdout",
     "output_type": "stream",
     "text": [
      "1.4142135623730950488016887242096980785696718753769480731766797379907324784621070388503875343276415727\n"
     ]
    }
   ],
   "source": [
    "SQRT(2)"
   ]
  },
  {
   "cell_type": "markdown",
   "metadata": {},
   "source": [
    "Actual value of the square root of 2 taken from the Nasa website is  1.414213562373095048801688724209698078569671875376948073176679737990732478462107038850387534327641573"
   ]
  },
  {
   "cell_type": "markdown",
   "metadata": {},
   "source": [
    "Sources-\n",
    "\n",
    "[1] https://math.mit.edu/~stevenj/18.335/newton-sqrt.pdf\n",
    "\n",
    "[2] https://cosmosmagazine.com/mathematics/the-square-root-of-2/\n",
    "\n",
    "[3[ https://en.wikipedia.org/wiki/Hippasus#Irrational_numbers\n",
    "\n",
    "[4] https://docs.python.org/3/tutorial/floatingpoint.html"
   ]
  }
 ],
 "metadata": {
  "kernelspec": {
   "display_name": "Python 3",
   "language": "python",
   "name": "python3"
  },
  "language_info": {
   "codemirror_mode": {
    "name": "ipython",
    "version": 3
   },
   "file_extension": ".py",
   "mimetype": "text/x-python",
   "name": "python",
   "nbconvert_exporter": "python",
   "pygments_lexer": "ipython3",
   "version": "3.8.3"
  }
 },
 "nbformat": 4,
 "nbformat_minor": 4
}
