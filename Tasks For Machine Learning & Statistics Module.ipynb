{
 "cells": [
  {
   "cell_type": "markdown",
   "metadata": {},
   "source": [
    "# Task 1 SQRT2()"
   ]
  },
  {
   "cell_type": "markdown",
   "metadata": {},
   "source": [
    "## Introduction\n",
    "\n",
    "We have been tasked with writing a  Python function that calculates the square root of 2 and prints it to the screen to 100 decimal places.\n",
    "\n",
    "The square root of a number is a specified quantity given when multiplied by itself. In mathematics it is generally represented  by the radical sign or radix √. It must be a positive number though in mathematics square roots of negative numbers are sometimes used and  are  known as imaginary numbers. The square root of 2 is known as an irrtaional number as it cannot be expressed as a fraction and has a never ending number of decimal numbers. \n",
    "\n",
    "## History\n",
    "\n",
    "The Pythagorean philosophers had a great focus on numbers and geometry and and guarded it as secret knowledge believeing they wwere gaining insight into  the make up of the universe itself. They believed all numbers were rational and could be expressed as a ratio of integer values. \n",
    "\n",
    "It is believed  that their belief in this concept was so strong that when when Hippasus discovered irrational numbers he was thrown from a boat and left to drown though this  event is seen as more of a myth than concrete factual truth due to conflicting reports from Iamblichus.<sup>[1.1]</sup>\n",
    "\n",
    "## Limitations\n",
    "\n",
    "Python has some built in limitations on how it runs its calculations. This is due to the fact that Python works on a base 2 system which cannot represent all decimal fractions exactly. This results in decimal floating-point numbers being approximated by the binary number stored. Floats are generally calculated using the first 53 bits beginning with the significant bit with a denominator as a power of 2.\n",
    "\n",
    "This is not a unique feature of a binary system. All base systems have limitations on their accuracies. If we consider our well understood base 10 system the fraction 1/3 can never be brought to it's full decimal representation. It can be shown to be 0.3, 0.33,  0.333 etc. Each additionnal decimal point brings us closer to the true value but we never reach the final value.<sup>[1.2]</sup>\n",
    "\n",
    "## Computational Methods\n",
    "\n",
    "There are several computational methods of calcluting the squareroot of a number. We shall be delving into the below methods-\n",
    "* Babylonian Method\n",
    "* Newton-Raphson Method\n",
    "\n",
    "## Babylonian Method\n",
    "\n",
    "This was one of the first known alogorithms for computing the square root of a number. It is believed to have been discovered in about 1,500BC by the babylonians and is also known as the Heron's Method. It works by guessing an initial over estimate number x<sub>0</sub> to the square root of a non negative real number S. Then S/x<sub>0</sub> will be an under estimate providing a better approximation of the real value by an average of the 2 numbers using the below formula. This is a special case of the Newton formula as you can see in the Newton-Raphson method below. <sup>[1.3][1.4]</sup>\n",
    "\n",
    "<img align=\"left\" src=\"images/Task_1/babylonian_average.png\">"
   ]
  },
  {
   "cell_type": "code",
   "execution_count": 40,
   "metadata": {},
   "outputs": [
    {
     "name": "stdout",
     "output_type": "stream",
     "text": [
      "Iteration 1 value is 1.5\n",
      "Iteration 2 value is 1.4166666666666665\n",
      "Iteration 3 value is 1.4142156862745097\n",
      "Iteration 4 value is 1.4142135623746899\n",
      "Iteration 5 value is 1.414213562373095\n",
      "Iteration 6 value is 1.414213562373095\n"
     ]
    },
    {
     "data": {
      "text/plain": [
       "'1.4142135623730949234300169337075203657150268554687500000000000000000000000000000000000000000000000000'"
      ]
     },
     "execution_count": 40,
     "metadata": {},
     "output_type": "execute_result"
    }
   ],
   "source": [
    "def BABYLONIAN(n): # https://www.w3resource.com/python-exercises/math/python-math-exercise-18.php\n",
    "    \n",
    "    if(n == 0):\n",
    "        return 0;\n",
    "\n",
    "    g = n/2.0; #First guess \n",
    "    g2 = g + 1; \n",
    "    Iteration = 1;\n",
    "    while(g != g2):      \n",
    "        num = n/ g;\n",
    "        g2 = g;\n",
    "        g = (g + num)/2;\n",
    "        print(\"Iteration\", Iteration, \"value is\",g)\n",
    "        Iteration = Iteration + 1\n",
    "\n",
    "    return (\"%.100f\" %g)\n",
    "\n",
    "BABYLONIAN(2)"
   ]
  },
  {
   "cell_type": "markdown",
   "metadata": {},
   "source": [
    "While this does give us an approximate value of the square root off 2 this still does not solve thhe issue at hand to find the square root of 2 due to the limitations of python mentioned above. \n",
    "\n",
    "From the government organsiation Nasa we can see that the square root of 2 to 100 decimal place is 1.4142135623730950488016887242096980785696718753769480731766797379907324784621070388503875343276415727<sup>[1.5]</sup>\n",
    "\n",
    "To overcome this we will be using thee Newton-Raphson method shown below with the new origin number greatly increased to remove the float limitations. "
   ]
  },
  {
   "cell_type": "markdown",
   "metadata": {},
   "source": [
    "## Newton-Raphson Method\n",
    "\n",
    "The Newton-Raphson method is an iterative method where each succesive iteration brings the result closer to the true value of the answer after finding a suitable starting value. The closer the initially selected value is to the answer the less itteratons  are required to produce the answer. It uses the idea that a continuous and differentiable function can be approximated by a straight line tangent to it.\n",
    "\n",
    "If x = √a for a > 0 then we need to solve for x<sup>2</sup> = a. To start Newtons method of solving this problem we need to have some guess for the value of x where x<sub>1</sub>>0. \n",
    "\n",
    "We can then begin with the first iteration with a single variable function f and an initial guess x<sub>0</sub> \n",
    "\n",
    "<img align=\"left\" src=\"images/Task_1/first_iteration.png\"><br><br>\n",
    "\n",
    "Succesive iterations can then be represented by the formula-\n",
    "\n",
    "<img align=\"left\" src=\"images/Task_1/newton_function_formula.png\"><br><br>\n",
    "\n",
    "This can be further developed into the equation below to calculate our new iterative values-\n",
    "\n",
    "<img align=\"left\" src=\"images/Task_1/newton_formula.PNG\"><br><br>\n",
    "\n",
    "Each iteration calculated will bring us closer to the true value required. Belowe we can see the code required to calculate the value of the squre root we require to the correct decimal  precision. To do this we have greatly incresed the initial value to overcome the limitations of pythons floats and then at the end cut it back down to give us the value we require.<sup>[1.6][1.7][1.8][1.9]</sup>"
   ]
  },
  {
   "cell_type": "code",
   "execution_count": 41,
   "metadata": {},
   "outputs": [
    {
     "name": "stdout",
     "output_type": "stream",
     "text": [
      "1.4142135623730950488016887242096980785696718753769480731766797379907324784621070388503875343276415727\n"
     ]
    }
   ],
   "source": [
    "def NEWTON(n): # https://stackoverflow.com/questions/64278117/is-there-a-way-to-create-more-decimal-points-on-python-without-importing-a-libra\n",
    "    x = n * 10 ** 200 # Value increased to get required precision due to Python limitations\n",
    "    r = x\n",
    "\n",
    "    if(x == 0):\n",
    "        return 0;\n",
    "    \n",
    "    def test_diffs(x, r):\n",
    "        d0 = abs(x - r**2)\n",
    "        dm = abs(x - (r-1)**2)\n",
    "        dp = abs(x - (r+1)**2)\n",
    "        minimised = d0 <= dm and d0 <= dp\n",
    "        below_min = dp < dm\n",
    "        return minimised, below_min\n",
    "\n",
    "    while True:\n",
    "        oldr = r\n",
    "        r = (r + x // r) // 2\n",
    "\n",
    "        minimised, below_min = test_diffs(x, r)\n",
    "        if minimised:\n",
    "            break\n",
    "\n",
    "        if r == oldr:\n",
    "            if below_min:\n",
    "                r += 1\n",
    "            else:\n",
    "                r -= 1\n",
    "            minimised, _ = test_diffs(x, r)\n",
    "            if minimised:\n",
    "                break\n",
    "\n",
    "    print(f'{r // 10**100}.{r % 10**100:0100d}')\n",
    "\n",
    "NEWTON(2)"
   ]
  },
  {
   "cell_type": "markdown",
   "metadata": {},
   "source": [
    "## Conclusion\n",
    "\n",
    "Due too the limitations of pythons ability to count floats the number had to be greatly increased to determine an accurate value of the required square root and then divided  back down again before displaying the final answer. The base 2 system should always be a consideration when running any kind of calculations especially in an environment where pin point accuracy is essential for effective implementation of the code."
   ]
  },
  {
   "cell_type": "markdown",
   "metadata": {},
   "source": [
    "## Sources-\n",
    "\n",
    "[1.1] wikipedia.org, \"Hippasus\", [online], https://en.wikipedia.org/wiki/Hippasus#Irrational_numbers\n",
    "\n",
    "[1.2] python.org, \"floating Point\", [online], https://docs.python.org/3/tutorial/floatingpoint.html\n",
    "\n",
    "[1.3] wikipedia.org, \"Methods of computing square roots\", [online], https://en.wikipedia.org/wiki/Methods_of_computing_square_roots#Babylonian_method\n",
    "\n",
    "[1.4] w3resource, \"python exercises\"https://www.w3resource.com/python-exercises/math/python-math-exercise-18.php\n",
    "\n",
    "[1.5] apod.nasa.gov, \"sqrt2\", [online], https://apod.nasa.gov/htmltest/gifcity/sqrt2.1mil\n",
    "\n",
    "[1.6] wikipedia.org, \"Newtons Method\", [online], https://en.wikipedia.org/wiki/Newton%27s_method\n",
    "\n",
    "[1.7] brilliant, \"newton-sqrt\", [online], https://brilliant.org/wiki/newton-raphson-method/\n",
    "\n",
    "[1.8] math.mit.edu, \"newton-sqrt\", [online], https://math.mit.edu/~stevenj/18.335/newton-sqrt.pdf\n",
    "\n",
    "[1.9] cosmomagazine.com, \"the-square-root-of-2\", [online], https://cosmosmagazine.com/mathematics/the-square-root-of-2/"
   ]
  },
  {
   "cell_type": "markdown",
   "metadata": {},
   "source": [
    "# Task 2 Chi-squared Test"
   ]
  },
  {
   "cell_type": "markdown",
   "metadata": {},
   "source": [
    "## Introduction\n",
    "\n",
    "Task 2 has specified that we need to use the scipy.stats to verify the chi-squared value of the of the array given as shown below and calculate its  associated <i>p</i> value. We also need to include a short note with references justifying the analysis  in a markdown cell.\n",
    "\n",
    "![chi_squared_array](images/Task_2/chi_squared_array.png)\n",
    "\n",
    "## History\n",
    "\n",
    "The chi squared test can also be written as the <i>χ<sup>2</sup></i>. It is a statistical hypothesis test for checking if two categorical variables are related in some population by checking if there is a statistically significant difference between the expected outcomes and the observed frequencies in the categories of a contingency table. It was published in a paper by Karl Pearson in 1900 and is considered a foundation of modern statistics. <sup>[2.1]</sup><sup>[2.2]</sup>\n",
    "\n",
    "## Use Case\n",
    "\n",
    "The purpose of the test is to evaluate a null hypotesis showing the frequency distribution of events in a certain sample  size are in line with the theoretical predicted outcome.\n",
    "\n",
    "The null hypothesis in statistics refers to the default assumption that there are no differences between two measured phenomena oro that the sampeles are taken from the same source. \n",
    "\n",
    "The chi-squared test is used regularly in cryptographic problems and bioinformatics in comparing properties of genes."
   ]
  },
  {
   "cell_type": "code",
   "execution_count": 42,
   "metadata": {},
   "outputs": [
    {
     "name": "stdout",
     "output_type": "stream",
     "text": [
      "Contingency Table\n",
      "                A    B    C    D  Total\n",
      "White Collar   90   60  104   95    349\n",
      "Blue Collar    30   50   51   20    151\n",
      "No Collar      30   40   45   35    150\n",
      "Total         150  150  200  150    650\n",
      "\n",
      "Stat: 24.571202858582602\n",
      "p value: 0.016990737760739776\n",
      "Degrees of freedom: 12 \n",
      "\n",
      "Expected Table\n",
      "[[ 80.53846154  80.53846154 107.38461538  80.53846154 349.        ]\n",
      " [ 34.84615385  34.84615385  46.46153846  34.84615385 151.        ]\n",
      " [ 34.61538462  34.61538462  46.15384615  34.61538462 150.        ]\n",
      " [150.         150.         200.         150.         650.        ]]\n",
      "\n",
      "Interpret test-statistic\n",
      "probability=0.95, critical=21.03, stat=24.6\n",
      "Dependent (reject H0)\n",
      "\n",
      "Interpret p-value\n",
      "significance=0.050, p=0.017\n",
      "Dependent (reject H0)\n"
     ]
    }
   ],
   "source": [
    "# import required packages to run the test\n",
    "import seaborn as sns\n",
    "import pandas as pd\n",
    "import numpy as np\n",
    "import scipy.stats as ss\n",
    "\n",
    "# create the array required representing the table date shown above\n",
    "table = pd.DataFrame([[90,60,104,95,349],[30,50,51,20,151],[30,40,45,35,150],[150,150,200,150,650]], index=[\"White Collar\",\"Blue Collar\",\"No Collar\",\"Total\"], columns=[\"A\",\"B\",\"C\",\"D\",\"Total\"])\n",
    "print(\"Contingency Table\")\n",
    "print(table)\n",
    "\n",
    "# run the chi test on the created contingency table above and assign variables\n",
    "stat,p,dof,expected = ss.chi2_contingency(table) \n",
    "print(\"\\nStat:\",stat) #  Sum of the totals chi square points. Chi square points =(Observed  Expected)^2/Expected \n",
    "print(\"p value:\",p) # a measure of the probability that an observed difference could have occurred just by random chance#\n",
    "print('Degrees of freedom: %d \\n' % dof) # degrees of freedom (total columns -1)*(total rows -1)\n",
    "\n",
    "print(\"Expected Table\")\n",
    "print(expected) # expected return array\n",
    "\n",
    "print(\"\\nInterpret test-statistic\")\n",
    "prob = 0.95\n",
    "critical = ss.chi2.ppf(prob, dof)\n",
    "\n",
    "print('probability=%.2f, critical=%.2f, stat=%.1f' % (prob, critical, stat))\n",
    "\n",
    "if abs(stat) >= critical:\n",
    "    print('Dependent (reject H0)')\n",
    "else:\n",
    "    print('Independent (fail to reject H0)')\n",
    "    \n",
    "print(\"\\nInterpret p-value\")\n",
    "alpha = 1.0 - prob\n",
    "print('significance=%.3f, p=%.3f' % (alpha, p))\n",
    "\n",
    "if p <= alpha:\n",
    "    print('Dependent (reject H0)')\n",
    "else:\n",
    "    print('Independent (fail to reject H0)')\n"
   ]
  },
  {
   "cell_type": "markdown",
   "metadata": {},
   "source": [
    "## Sources-\n",
    "\n",
    "[2.1] wikipedia.org, \"Chi-squared_test\", [online], https://en.wikipedia.org/wiki/Chi-squared_test\n",
    "\n",
    "[2.2] wikipedia.org, \"Pearson's chi-squared test\", [online], https://en.wikipedia.org/wiki/Pearson%27s_chi-squared_test\n",
    "\n",
    "https://machinelearningmastery.com/chi-squared-test-for-machine-learning/\n",
    "\n",
    "https://docs.scipy.org/doc/scipy/reference/generated/scipy.stats.chi2_contingency.html\n",
    "\n",
    "https://stattrek.com/chi-square-test/goodness-of-fit.aspx#:~:text=The%20P%2Dvalue%20is%20the%20probability%20that%20a%20chi%2Dsquare,2%20%3E%2019.58)%20%3D%200.0001."
   ]
  },
  {
   "cell_type": "markdown",
   "metadata": {},
   "source": [
    "# Task 3 Standard Deviation of an Array"
   ]
  },
  {
   "cell_type": "markdown",
   "metadata": {},
   "source": [
    "## Introducution\n",
    "\n",
    "For task 3 we have been asked to research thee excel functions STDEV.P and STDEV.S noting the differences between these two similar functions.  We are then tasked with using the numpy package to perform a simiulation demonstrating that STDEV.S caculation is a better estimate for the standard deviation of the population when performed on a sample. Part of the task is also figuring out the various terminology used.\n",
    "\n",
    "## Research\n",
    "\n",
    "The standard deviation of an array of numbers x is calculated using numpy with the below notation-\n",
    "\n",
    "np.sqrt(np.sum((x-np.mean(x)^2)/len(x)).\n",
    "\n",
    "To use this an excel we would use the functions STDEV.P (standard deviation population) and STDEV.S (Standard deviation sample). STDEV.P is to be used when the data represents the entire population.  If just a sample of the population is given then STDEV.S is used. \n",
    "\n",
    "The difference between these two feature is in the division.  In STDEV.P the squared  deviation is divided by the total number of arguments represented by x in the above numpy formula. In STDEV.S the squared deviation is divided by the total number of samples -1. <sup>[3.1]</sup>\n",
    "\n",
    "Before we move forward we should define a few of the functions we're discussing. \n",
    "\n",
    "##  Definitions\n",
    "\n",
    "<b>Population-</b> The entire pool which a sample is taken and known as a parameter. This can vary in size depending on the desired information the user is looking for. It can be defined as an group of subjects sharing a common feature. It is generally represented by the upper case N in statistics. <sup>[3.2]</sup>\n",
    "\n",
    "<b>Sample-</b> A sample refers to a subset of the population and is known as a statistic. Samples are generally used to have a more manageable version of the larger population and carry the same characteristic features of the population. It is important to ensure that the sample taken covers the range of features required. If a sample is used in place of population it is generally represented by the lower case n. <sup>[3.3]</sup>\n",
    "\n",
    "<b>Mean-</b> The sum of the datapoints divided by the total quantity of datapoints. This is represented slightly differently between population and samples but is ultimately the same equation as shown below.\n",
    "- <i>Population-</i>\n",
    "\\begin{align*}\n",
    "\\mu= \n",
    "\\frac\n",
    "    {\\sum_{i=1}^N x_{i}}\n",
    "    {N}\n",
    "\\end{align*}\n",
    "\n",
    "- <i>Sample-</i>\n",
    "\\begin{align*}\n",
    "\\overline{x}= \n",
    "\\frac\n",
    "    {\\sum_{i=1}^n x_{i}}\n",
    "    {n}\n",
    "\\end{align*}\n",
    "\n",
    "<b>Variability-</b> This refers to how spread out the datapoints of a series are from their average value. The higher the number the larger the gaps  between a sequence of numbers. There is a diffference between the population and sample formulas used and also within the sample formulas themselves there are two formulas to be considered known as the biased and unbiased  formulas. Bias will  be explained shortly.\n",
    "\n",
    "- <i>Population-</i>\n",
    "\\begin{align*}\n",
    "\\sigma^2 = \n",
    "\\frac\n",
    "        {\\sum_{i=1}^N (x_{i} - \\mu)^2}\n",
    "        {N}\n",
    "\\end{align*}\n",
    "\n",
    "- <i>Sample-</i>\n",
    "\n",
    "<u>Biased Estimate</u>\n",
    "\\begin{align*}\n",
    "S_{n}^2 = \n",
    "\\frac\n",
    "        {\\sum_{i=1}^n (x_{i} - \\overline{x})^2}\n",
    "        {n}\n",
    "\\end{align*}\n",
    "\n",
    "<u>Unbiased Estimate</u>\n",
    "\\begin{align*}\n",
    "S_{n-1}^2 = \n",
    "\\frac\n",
    "        {\\sum_{i=1}^n (x_{i} - \\overline{x})^2}\n",
    "        {n-1}\n",
    "\\end{align*}\n",
    "\n",
    "<b>Standard Deviation-</b> This is the square root of the variance shown above and brings the units back to the non squared units. It is a measure of dispersion of the values of a series from their mean. Just like in variability there are seperate equations for the population and sample calculations shown below.\n",
    "\n",
    "- <i>Population-</i> The population standard deviation is a fixed value calculated for all datapoints of the population and is represented by the equation below-\n",
    "\\begin{align*}\n",
    "\\sigma = \n",
    "\\sqrt[]{\n",
    "    \\frac\n",
    "        {\\sum_{i=1}^N (x_{i} - \\mu)^2}\n",
    "        {N}\n",
    "}\n",
    "\\end{align*}\n",
    "\n",
    "- <i>Sample-</i> A sample  is a subset of the population known as a statistic. The equation for this is shown below. This is slightly different than the population standard deviation in that it's divided  by n-1 instead of n.  This is known as the unbiased estimate of the population and the reasons will be explained shortly-\n",
    "\n",
    "\\begin{align*}\n",
    "\\sigma = \n",
    "\\sqrt[]{\n",
    "    \\frac\n",
    "        {\\sum_{i=1}^n (x_{i} - \\overline{x})^2}\n",
    "        {n-1}\n",
    "}\n",
    "\\end{align*}\n",
    "\n",
    "<b>Deviation-</b> The difference between an observed vlue and some other value. Generally the other value is the mean as is the case n the standard deviation formula above. It is represented by the equation-\n",
    "\\begin{align*}\n",
    "(x_{i} - \\overline{x})\n",
    "\\end{align*}\n",
    "\n",
    "<b>Bias</b>\n",
    "\n",
    "As we can see from the equations above the standard deviation for the sample has a smaller division than the standard deviation formula for the population. Because the sample is only a subset of the population the standard deviation calculated can have great variability. This results in the sample standard deviation being a larger value than the population standard deviation if using the popluation formula of N in place of the samples required n-1. This is know as a biased estimate of the population. \n",
    "\n",
    "To avoid this issue we use the unbiased form of the equation for a sample. This is a way of accounting for the larger variabaility within the sample compared to the populaton due  to the fact that it's only a set amount of the population being used as datapoints. As the n value grows toward infinity the n-1 values becomes less and less relevant in magnitude.<sup>[3.5]</sup>\n",
    "\n",
    "Below is an example of the standard deviation calculation of a population of 1,000 datapoints of  a number between 1 and 100. The standard deviation of  the total population is calculated and then a random sample of 50  is taken from the generated population and both the biased and unbiased standard deviation is calculated. "
   ]
  },
  {
   "cell_type": "code",
   "execution_count": 43,
   "metadata": {
    "scrolled": true
   },
   "outputs": [
    {
     "name": "stdout",
     "output_type": "stream",
     "text": [
      "The standard deviation of the population is 29.02219796982992\n",
      "\n",
      "Using STDEV.P the average reading of a random sample of 50  taken from a population of 1,000 done over 100 iterations returns as 28.738354101675895. This is a difference from the actual population standard deviation of 0.28384386815402607\n",
      "\n",
      "Using STDEV.S the average reading of a random sample of 50  taken from a population of 1,000 done over 100 iterations returns as 28.264024036004663. This is a difference from the actual population standard deviation of 0.7581739338252582\n"
     ]
    }
   ],
   "source": [
    "import matplotlib.pyplot as plt\n",
    "import statistics as stat\n",
    "\n",
    "def stdev_p(pop):\n",
    "    avg_STDDEV_P = []\n",
    "    for i in range(50):\n",
    "        x = np.random.randint(950)\n",
    "        reading = np.std(pop[x:(x+50)])\n",
    "        avg_STDDEV_P.append(reading)\n",
    "    return  stat.mean(avg_STDDEV_P)\n",
    "\n",
    "def stdev_s(pop):\n",
    "    avg_STDDEV_S = []\n",
    "    for i in range(50):\n",
    "        x = np.random.randint(950)\n",
    "        reading = np.std(pop[x:(x+50)], ddof = 1)\n",
    "        avg_STDDEV_S.append(reading)\n",
    "    return  stat.mean(avg_STDDEV_S)\n",
    "    \n",
    "pop = np.random.randint(100, size=1000)\n",
    "\n",
    "pop_STDEV_P = np.std(pop)\n",
    "print(f\"The standard deviation of the population is {pop_STDEV_P}\")\n",
    "\n",
    "STDEV_P = stdev_p(pop)\n",
    "STDEV_S = stdev_s(pop)\n",
    "print(f\"\\nUsing STDEV.P the average reading of a random sample of 50  taken from a population of 1,000 done over 100 iterations returns as {STDEV_P}. This is a difference from the actual population standard deviation of {abs(STDEV_P - pop_STDEV_P)}\")\n",
    "print(f\"\\nUsing STDEV.S the average reading of a random sample of 50  taken from a population of 1,000 done over 100 iterations returns as {STDEV_S}. This is a difference from the actual population standard deviation of {abs(STDEV_S - pop_STDEV_P)}\")"
   ]
  },
  {
   "cell_type": "markdown",
   "metadata": {},
   "source": [
    "## Results\n",
    "\n",
    "To achieve  a fair representation of the biased and unbiased calculations the formulas were iterated through 50 times each and an average value taken. This is to minimise statistical  annomalies and give  a better representation of their  true calculated values. \n",
    "\n",
    "From the returned values of the above calculations we can see that while both the biased and unbiased standard deviations are a close approximation of the true standrard deviation of the population, the unbiased calculation is a better estimate for the true  value. \n",
    "\n",
    "As discussed above this is due to the greater variability created by taking samples from a population. This leads to an over estimation of the standard deviation which must be accounted for.  The n-1 is a method of accounting for  this over estimaton.\n"
   ]
  },
  {
   "cell_type": "markdown",
   "metadata": {},
   "source": [
    "## Sources\n",
    "\n",
    "[3.1] https://www.exceltip.com/statistical-formulas/how-to-use-excel-stdev-p-function.html#:~:text=Let's%20Explore.-,The%20STDEV.,sample%20of%20the%20entire%20population.\n",
    "\n",
    "[3.2] https://www.investopedia.com/terms/p/population.asp\n",
    "\n",
    "[3.3] https://www.investopedia.com/terms/s/sample.asp\n",
    "\n",
    "[3.4] https://www.khanacademy.org/math/ap-statistics/summarizing-quantitative-data-ap/more-standard-deviation/v/review-and-intuition-why-we-divide-by-n-1-for-the-unbiased-sample-variance\n",
    "\n",
    "[3.5] https://www.khanacademy.org/math/statistics-probability/summarizing-quantitative-data/variance-standard-deviation-sample/a/population-and-sample-standard-deviation-review"
   ]
  },
  {
   "cell_type": "markdown",
   "metadata": {},
   "source": [
    "# Task 4 k-means on the Iris data set"
   ]
  },
  {
   "cell_type": "markdown",
   "metadata": {},
   "source": [
    "For the final task we were asked to use scikit-learn to apply k-means clustering to Fisher's Iris data set. We have to explain how the code works and how accurate it might be and explain how the model could be used to make predictions of Iris species.\n",
    "\n",
    "## Research\n",
    "Clustering is an exploratory data analysis technique. It's used to get an idea of the structure of the data and is used in identifying homogenous subgroups within overall data sets. Clusters are as similar as possible according to a similarity measure.<sup>[4.1].</sup>\n",
    "\n",
    "The K-means algorithm seperates samples into a number of groups of equal variance, minimising a criterion known as the inertia or within-cluster sum-of-squares by t he use of centroids and datapoints distance from these points. The number of groups it is to be seperated into is specified by the use. The algorithm is known to scale well to large scale deployment and has been used across mulitple fields and applications. The K-means formula is shown below-<sup>[4.2]</sup>\n",
    "\n",
    "\\begin{align*}\n",
    "\\sum_{i=0}^n \\min_{\\mu_{j} \\in C} (||x_{i} - \\mu_{j} ||^2)\n",
    "\\end{align*}\n",
    "\n",
    "From the scikit package we get can use the K-means formula with the following command-\n",
    "\n",
    "class sklearn.cluster.KMeans(n_clusters=8, *, init='k-means++', n_init=10, max_iter=300, tol=0.0001, precompute_distances='deprecated', verbose=0, random_state=None, copy_x=True, n_jobs='deprecated', algorithm='auto')\n",
    "\n",
    "For an in depth look at each individual point in this formula please see the link in the source. <sup>[4.3]</sup>\n",
    "\n",
    "First we will be looking at the optimal amount of clusters to input to the formula for  the dataset. The method of doing this is known as the elbow method. This runs K-means clustering on the dataset for a range of values of k and for each value calculating the sum of the squared distances. This is then used to plot a chart and the major bend (elbow) on the chart is the number of clusters to use. The goal of this method is to choose a small value of k that still has a low sum of squared distances. The elbow in this case would represent the point of diminishing returns. It should be noted that in cases where the data is very clustered together this method may not be suitable and an alternative may be required as this would not present a clear elbow on the chart. Alternative methods to use in these cases would be average silhouette method or the gap statistic method. <sup>[4.4]</sup> <sup>[4.5]</sup>\n",
    "\n"
   ]
  },
  {
   "cell_type": "code",
   "execution_count": 70,
   "metadata": {},
   "outputs": [
    {
     "name": "stdout",
     "output_type": "stream",
     "text": [
      "   sepal_length  sepal_width  petal_length  petal_width species\n",
      "0           5.1          3.5           1.4          0.2  setosa\n",
      "1           4.9          3.0           1.4          0.2  setosa\n",
      "2           4.7          3.2           1.3          0.2  setosa\n",
      "3           4.6          3.1           1.5          0.2  setosa\n",
      "4           5.0          3.6           1.4          0.2  setosa\n",
      "[[5.1 3.5 1.4 0.2]\n",
      " [4.9 3.  1.4 0.2]\n",
      " [4.7 3.2 1.3 0.2]\n",
      " [4.6 3.1 1.5 0.2]\n",
      " [5.  3.6 1.4 0.2]\n",
      " [5.4 3.9 1.7 0.4]\n",
      " [4.6 3.4 1.4 0.3]\n",
      " [5.  3.4 1.5 0.2]\n",
      " [4.4 2.9 1.4 0.2]\n",
      " [4.9 3.1 1.5 0.1]\n",
      " [5.4 3.7 1.5 0.2]\n",
      " [4.8 3.4 1.6 0.2]\n",
      " [4.8 3.  1.4 0.1]\n",
      " [4.3 3.  1.1 0.1]\n",
      " [5.8 4.  1.2 0.2]\n",
      " [5.7 4.4 1.5 0.4]\n",
      " [5.4 3.9 1.3 0.4]\n",
      " [5.1 3.5 1.4 0.3]\n",
      " [5.7 3.8 1.7 0.3]\n",
      " [5.1 3.8 1.5 0.3]\n",
      " [5.4 3.4 1.7 0.2]\n",
      " [5.1 3.7 1.5 0.4]\n",
      " [4.6 3.6 1.  0.2]\n",
      " [5.1 3.3 1.7 0.5]\n",
      " [4.8 3.4 1.9 0.2]\n",
      " [5.  3.  1.6 0.2]\n",
      " [5.  3.4 1.6 0.4]\n",
      " [5.2 3.5 1.5 0.2]\n",
      " [5.2 3.4 1.4 0.2]\n",
      " [4.7 3.2 1.6 0.2]\n",
      " [4.8 3.1 1.6 0.2]\n",
      " [5.4 3.4 1.5 0.4]\n",
      " [5.2 4.1 1.5 0.1]\n",
      " [5.5 4.2 1.4 0.2]\n",
      " [4.9 3.1 1.5 0.1]\n",
      " [5.  3.2 1.2 0.2]\n",
      " [5.5 3.5 1.3 0.2]\n",
      " [4.9 3.1 1.5 0.1]\n",
      " [4.4 3.  1.3 0.2]\n",
      " [5.1 3.4 1.5 0.2]\n",
      " [5.  3.5 1.3 0.3]\n",
      " [4.5 2.3 1.3 0.3]\n",
      " [4.4 3.2 1.3 0.2]\n",
      " [5.  3.5 1.6 0.6]\n",
      " [5.1 3.8 1.9 0.4]\n",
      " [4.8 3.  1.4 0.3]\n",
      " [5.1 3.8 1.6 0.2]\n",
      " [4.6 3.2 1.4 0.2]\n",
      " [5.3 3.7 1.5 0.2]\n",
      " [5.  3.3 1.4 0.2]\n",
      " [7.  3.2 4.7 1.4]\n",
      " [6.4 3.2 4.5 1.5]\n",
      " [6.9 3.1 4.9 1.5]\n",
      " [5.5 2.3 4.  1.3]\n",
      " [6.5 2.8 4.6 1.5]\n",
      " [5.7 2.8 4.5 1.3]\n",
      " [6.3 3.3 4.7 1.6]\n",
      " [4.9 2.4 3.3 1. ]\n",
      " [6.6 2.9 4.6 1.3]\n",
      " [5.2 2.7 3.9 1.4]\n",
      " [5.  2.  3.5 1. ]\n",
      " [5.9 3.  4.2 1.5]\n",
      " [6.  2.2 4.  1. ]\n",
      " [6.1 2.9 4.7 1.4]\n",
      " [5.6 2.9 3.6 1.3]\n",
      " [6.7 3.1 4.4 1.4]\n",
      " [5.6 3.  4.5 1.5]\n",
      " [5.8 2.7 4.1 1. ]\n",
      " [6.2 2.2 4.5 1.5]\n",
      " [5.6 2.5 3.9 1.1]\n",
      " [5.9 3.2 4.8 1.8]\n",
      " [6.1 2.8 4.  1.3]\n",
      " [6.3 2.5 4.9 1.5]\n",
      " [6.1 2.8 4.7 1.2]\n",
      " [6.4 2.9 4.3 1.3]\n",
      " [6.6 3.  4.4 1.4]\n",
      " [6.8 2.8 4.8 1.4]\n",
      " [6.7 3.  5.  1.7]\n",
      " [6.  2.9 4.5 1.5]\n",
      " [5.7 2.6 3.5 1. ]\n",
      " [5.5 2.4 3.8 1.1]\n",
      " [5.5 2.4 3.7 1. ]\n",
      " [5.8 2.7 3.9 1.2]\n",
      " [6.  2.7 5.1 1.6]\n",
      " [5.4 3.  4.5 1.5]\n",
      " [6.  3.4 4.5 1.6]\n",
      " [6.7 3.1 4.7 1.5]\n",
      " [6.3 2.3 4.4 1.3]\n",
      " [5.6 3.  4.1 1.3]\n",
      " [5.5 2.5 4.  1.3]\n",
      " [5.5 2.6 4.4 1.2]\n",
      " [6.1 3.  4.6 1.4]\n",
      " [5.8 2.6 4.  1.2]\n",
      " [5.  2.3 3.3 1. ]\n",
      " [5.6 2.7 4.2 1.3]\n",
      " [5.7 3.  4.2 1.2]\n",
      " [5.7 2.9 4.2 1.3]\n",
      " [6.2 2.9 4.3 1.3]\n",
      " [5.1 2.5 3.  1.1]\n",
      " [5.7 2.8 4.1 1.3]\n",
      " [6.3 3.3 6.  2.5]\n",
      " [5.8 2.7 5.1 1.9]\n",
      " [7.1 3.  5.9 2.1]\n",
      " [6.3 2.9 5.6 1.8]\n",
      " [6.5 3.  5.8 2.2]\n",
      " [7.6 3.  6.6 2.1]\n",
      " [4.9 2.5 4.5 1.7]\n",
      " [7.3 2.9 6.3 1.8]\n",
      " [6.7 2.5 5.8 1.8]\n",
      " [7.2 3.6 6.1 2.5]\n",
      " [6.5 3.2 5.1 2. ]\n",
      " [6.4 2.7 5.3 1.9]\n",
      " [6.8 3.  5.5 2.1]\n",
      " [5.7 2.5 5.  2. ]\n",
      " [5.8 2.8 5.1 2.4]\n",
      " [6.4 3.2 5.3 2.3]\n",
      " [6.5 3.  5.5 1.8]\n",
      " [7.7 3.8 6.7 2.2]\n",
      " [7.7 2.6 6.9 2.3]\n",
      " [6.  2.2 5.  1.5]\n",
      " [6.9 3.2 5.7 2.3]\n",
      " [5.6 2.8 4.9 2. ]\n",
      " [7.7 2.8 6.7 2. ]\n",
      " [6.3 2.7 4.9 1.8]\n",
      " [6.7 3.3 5.7 2.1]\n",
      " [7.2 3.2 6.  1.8]\n",
      " [6.2 2.8 4.8 1.8]\n",
      " [6.1 3.  4.9 1.8]\n",
      " [6.4 2.8 5.6 2.1]\n",
      " [7.2 3.  5.8 1.6]\n",
      " [7.4 2.8 6.1 1.9]\n",
      " [7.9 3.8 6.4 2. ]\n",
      " [6.4 2.8 5.6 2.2]\n",
      " [6.3 2.8 5.1 1.5]\n",
      " [6.1 2.6 5.6 1.4]\n",
      " [7.7 3.  6.1 2.3]\n",
      " [6.3 3.4 5.6 2.4]\n",
      " [6.4 3.1 5.5 1.8]\n",
      " [6.  3.  4.8 1.8]\n",
      " [6.9 3.1 5.4 2.1]\n",
      " [6.7 3.1 5.6 2.4]\n",
      " [6.9 3.1 5.1 2.3]\n",
      " [5.8 2.7 5.1 1.9]\n",
      " [6.8 3.2 5.9 2.3]\n",
      " [6.7 3.3 5.7 2.5]\n",
      " [6.7 3.  5.2 2.3]\n",
      " [6.3 2.5 5.  1.9]\n",
      " [6.5 3.  5.2 2. ]\n",
      " [6.2 3.4 5.4 2.3]\n",
      " [5.9 3.  5.1 1.8]]\n"
     ]
    },
    {
     "data": {
      "image/png": "[encoded data removed]",
      "text/plain": [
       "<Figure size 432x288 with 1 Axes>"
      ]
     },
     "metadata": {
      "needs_background": "light"
     },
     "output_type": "display_data"
    }
   ],
   "source": [
    "#https://blog.cambridgespark.com/how-to-determine-the-optimal-number-of-clusters-for-k-means-clustering-14f27070048f\n",
    "\n",
    "import pandas as pd\n",
    "from sklearn.preprocessing import MinMaxScaler\n",
    "from sklearn.cluster import KMeans\n",
    "import matplotlib.pyplot as plt\n",
    "\n",
    "data = pd.read_csv(\"iris.csv\")\n",
    "print(data.head())\n",
    "x = data.iloc[:, [0, 1, 2, 3]].values # Creat array of csv data removing the species column as not required for calcs\n",
    "print(x)\n",
    "\n",
    "mms = MinMaxScaler() \n",
    "mms.fit(x) # Compute the minimum and maximum values or scaling\n",
    "x_transformed = mms.transform(x) # Scale the features of the dataset to fit within the range\n",
    "\n",
    "Sum_of_squared_distances = [] # Create empty array to be populated by the kmeans inertia factor\n",
    "K = range(1,15)\n",
    "for k in K:\n",
    "    km = KMeans(n_clusters=k)\n",
    "    km = km.fit(x_transformed)\n",
    "    Sum_of_squared_distances.append(km.inertia_)\n",
    "    \n",
    "plt.plot(K, Sum_of_squared_distances, 'bx-')\n",
    "plt.xlabel('k')\n",
    "plt.ylabel('Sum_of_squared_disbtances')\n",
    "plt.title('Elbow Method For Optimal k')\n",
    "plt.show()"
   ]
  },
  {
   "cell_type": "markdown",
   "metadata": {},
   "source": [
    "From the above graph we can see that the elbow  point for the code is at the k=3 mark. This prorvides us with an optimal number of clusters. This corresponds with the nuber of species and would be expected in a dataset such as this. Below we will input the optimal cluster quantity into the k-means formula and provide a graph of the dataset provided with the centroids shown."
   ]
  },
  {
   "cell_type": "code",
   "execution_count": 126,
   "metadata": {
    "scrolled": false
   },
   "outputs": [
    {
     "data": {
      "text/plain": [
       "Text(0, 0.5, 'Sepal Width')"
      ]
     },
     "execution_count": 126,
     "metadata": {},
     "output_type": "execute_result"
    },
    {
     "data": {
      "image/png": "[encoded data removed]",
      "text/plain": [
       "<Figure size 432x288 with 1 Axes>"
      ]
     },
     "metadata": {
      "needs_background": "light"
     },
     "output_type": "display_data"
    }
   ],
   "source": [
    "kmeans = KMeans(n_clusters = 3, random_state = 0)\n",
    "y_kmeans = kmeans.fit_predict(x)\n",
    "\n",
    "# Plot the 3 groups below\n",
    "plt.scatter(x[y_kmeans == 0][:,0], x[y_kmeans == 0][:,1], c = 'blue', label = 'Iris-setosa')\n",
    "plt.scatter(x[y_kmeans == 1][:,0], x[y_kmeans == 1][:,1], c = 'magenta', label = 'Iris-versicolour')\n",
    "plt.scatter(x[y_kmeans == 2][:,0], x[y_kmeans == 2][:,1], c = 'green', label = 'Iris-virginica')\n",
    "\n",
    "# Show the location of the centroids\n",
    "plt.scatter(kmeans.cluster_centers_[:, 0], kmeans.cluster_centers_[:,1], s = 100, c = 'orange', label = 'Centroids')\n",
    "\n",
    "plt.legend()\n",
    "plt.xlabel('Sepal Length')\n",
    "plt.ylabel('Sepal Width')"
   ]
  },
  {
   "cell_type": "markdown",
   "metadata": {},
   "source": [
    "In the above graph we can see the predicted centroid locations overlaid on the dataset given for each category of iris flower sepal length and width values. At a glance we can see that the centroids look in their approximate correct location. We can also see there is significant overlap between the Iris-Virginica an the Iris-setosa species. This could potentially lead to mis labelled plants creating an error in the model. Perhaps it is best to compare plant types by the petal length and width instead of the sepal. We will be using the same dataset but different values for the x and y labels."
   ]
  },
  {
   "cell_type": "code",
   "execution_count": 127,
   "metadata": {},
   "outputs": [
    {
     "data": {
      "text/plain": [
       "Text(0, 0.5, 'Petal Width')"
      ]
     },
     "execution_count": 127,
     "metadata": {},
     "output_type": "execute_result"
    },
    {
     "data": {
      "image/png": "[encoded data removed]",
      "text/plain": [
       "<Figure size 432x288 with 1 Axes>"
      ]
     },
     "metadata": {
      "needs_background": "light"
     },
     "output_type": "display_data"
    }
   ],
   "source": [
    "# Plot the 3 groups below\n",
    "plt.scatter(x[y_kmeans == 0][:,2], x[y_kmeans == 0][:,3], c = 'blue', marker = 'x', label = 'Iris-setosa')\n",
    "plt.scatter(x[y_kmeans == 1][:,2], x[y_kmeans == 1][:,3], c = 'magenta', marker = 'x', label = 'Iris-versicolour')\n",
    "plt.scatter(x[y_kmeans == 2][:,2], x[y_kmeans == 2][:,3], c = 'green', marker = 'x', label = 'Iris-virginica')\n",
    "\n",
    "# Show the location of the centroids\n",
    "plt.scatter(kmeans.cluster_centers_[:, 2], kmeans.cluster_centers_[:,3], s = 100, c = 'orange', label = 'Centroids')\n",
    "\n",
    "plt.legend()\n",
    "plt.xlabel('Petal Length')\n",
    "plt.ylabel('Petal Width')"
   ]
  },
  {
   "cell_type": "code",
   "execution_count": 116,
   "metadata": {},
   "outputs": [
    {
     "data": {
      "text/plain": [
       "array([1, 1, 1, 2, 2, 2, 0, 0, 0, 0])"
      ]
     },
     "execution_count": 116,
     "metadata": {},
     "output_type": "execute_result"
    }
   ],
   "source": [
    "myseplen = np.linspace(4.3, 7.9, 10)\n",
    "mysepwid = np.linspace(2, 4.4, 10)\n",
    "mypetlen = np.linspace(1, 6.9, 10)\n",
    "mypetwid = np.linspace(0.1, 2.5, 10)\n",
    "mynewvals = np.vstack([myseplen, mysepwid, mypetlen, mypetwid]).T\n",
    "mynewvals\n",
    "mypredictions = kmeans.predict(mynewvals)\n",
    "mypredictions"
   ]
  },
  {
   "cell_type": "code",
   "execution_count": 133,
   "metadata": {},
   "outputs": [
    {
     "data": {
      "text/plain": [
       "Text(0, 0.5, 'Sepal Width')"
      ]
     },
     "execution_count": 133,
     "metadata": {},
     "output_type": "execute_result"
    },
    {
     "data": {
      "image/png": "[encoded data removed]",
      "text/plain": [
       "<Figure size 432x288 with 1 Axes>"
      ]
     },
     "metadata": {
      "needs_background": "light"
     },
     "output_type": "display_data"
    }
   ],
   "source": [
    "plt.scatter(x[y_kmeans == 0][:,0], x[y_kmeans == 0][:,1], c = 'blue', marker = 'x', label = 'Iris-setosa')\n",
    "plt.scatter(x[y_kmeans == 1][:,0], x[y_kmeans == 1][:,1], c = 'magenta', marker = 'x', label = 'Iris-versicolour')\n",
    "plt.scatter(x[y_kmeans == 2][:,0], x[y_kmeans == 2][:,1], c = 'green', marker = 'x', label = 'Iris-virginica')\n",
    "plt.scatter(kmeans.cluster_centers_[:, 0], kmeans.cluster_centers_[:,1], s = 100, c = 'orange', label = 'Centroids')\n",
    "plt.plot(mynewvals[mypredictions == 0][:,0], mynewvals[mypredictions == 0][:,1], 'bo')\n",
    "plt.plot(mynewvals[mypredictions == 1][:,0], mynewvals[mypredictions == 1][:,1], 'mo')\n",
    "plt.plot(mynewvals[mypredictions == 2][:,0], mynewvals[mypredictions == 2][:,1], 'go')\n",
    "\n",
    "plt.legend()\n",
    "plt.xlabel('Sepal Length')\n",
    "plt.ylabel('Sepal Width')"
   ]
  },
  {
   "cell_type": "code",
   "execution_count": 132,
   "metadata": {},
   "outputs": [
    {
     "data": {
      "text/plain": [
       "Text(0, 0.5, 'Petal Width')"
      ]
     },
     "execution_count": 132,
     "metadata": {},
     "output_type": "execute_result"
    },
    {
     "data": {
      "image/png": "[encoded data removed]",
      "text/plain": [
       "<Figure size 432x288 with 1 Axes>"
      ]
     },
     "metadata": {
      "needs_background": "light"
     },
     "output_type": "display_data"
    }
   ],
   "source": [
    "plt.scatter(x[y_kmeans == 0][:,2], x[y_kmeans == 0][:,3], c = 'blue', marker = 'x', label = 'Iris-setosa')\n",
    "plt.scatter(x[y_kmeans == 1][:,2], x[y_kmeans == 1][:,3], c = 'magenta', marker = 'x', label = 'Iris-versicolour')\n",
    "plt.scatter(x[y_kmeans == 2][:,2], x[y_kmeans == 2][:,3], c = 'green', marker = 'x', label = 'Iris-virginica')\n",
    "plt.scatter(kmeans.cluster_centers_[:, 2], kmeans.cluster_centers_[:,3], s = 100, c = 'orange', label = 'Centroids')\n",
    "plt.plot(mynewvals[mypredictions == 0][:,2], mynewvals[mypredictions == 0][:,3], 'bo')\n",
    "plt.plot(mynewvals[mypredictions == 1][:,2], mynewvals[mypredictions == 1][:,3], 'mo')\n",
    "plt.plot(mynewvals[mypredictions == 2][:,2], mynewvals[mypredictions == 2][:,3], 'go')\n",
    "\n",
    "plt.legend()\n",
    "plt.xlabel('Petal Length')\n",
    "plt.ylabel('Petal Width')"
   ]
  },
  {
   "cell_type": "markdown",
   "metadata": {},
   "source": [
    "### Sources\n",
    "\n",
    "[4.1] https://towardsdatascience.com/k-means-clustering-algorithm-applications-evaluation-methods-and-drawbacks-aa03e644b48a\n",
    "\n",
    "[4.2] https://scikit-learn.org/stable/modules/clustering.html#k-means\n",
    "\n",
    "[4.3] https://scikit-learn.org/stable/modules/generated/sklearn.cluster.KMeans.html#sklearn.cluster.KMeans\n",
    "\n",
    "[4.4] https://www.scikit-yb.org/en/latest/api/cluster/elbow.html\n",
    "\n",
    "[4.5] https://www.kaggle.com/khotijahs1/k-means-clustering-of-iris-dataset"
   ]
  },
  {
   "cell_type": "code",
   "execution_count": null,
   "metadata": {},
   "outputs": [],
   "source": []
  }
 ],
 "metadata": {
  "kernelspec": {
   "display_name": "Python 3",
   "language": "python",
   "name": "python3"
  },
  "language_info": {
   "codemirror_mode": {
    "name": "ipython",
    "version": 3
   },
   "file_extension": ".py",
   "mimetype": "text/x-python",
   "name": "python",
   "nbconvert_exporter": "python",
   "pygments_lexer": "ipython3",
   "version": "3.8.3"
  }
 },
 "nbformat": 4,
 "nbformat_minor": 4
}
