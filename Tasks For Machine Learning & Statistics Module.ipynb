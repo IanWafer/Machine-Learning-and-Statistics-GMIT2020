{
 "cells": [
  {
   "cell_type": "markdown",
   "metadata": {},
   "source": [
    "## Ian Wafer- G00376322\n",
    "\n",
    "Below is my submissions for the 4 assignments given for the machine learning and statistics module of the h-dip  in data analytics course.\n",
    "\n",
    "Assignment task number-\n",
    "\n",
    "[Task 1 SQRT2()](#Task1)\n",
    "\n",
    "[Task 2 Chi-squared Test](#Task2)\n",
    "\n",
    "[Task 3 Standard Deviation of an Array](#Task3)\n",
    "\n",
    "[Task 4 k-means on the Iris data set](#Task4)\n"
   ]
  },
  {
   "cell_type": "markdown",
   "metadata": {},
   "source": [
    "# <a id='Task1'>Task 1 SQRT2()</a>"
   ]
  },
  {
   "cell_type": "markdown",
   "metadata": {},
   "source": [
    "## Introduction\n",
    "\n",
    "We have been tasked with writing a  Python function that calculates the square root of 2 and prints it to the screen to 100 decimal places.\n",
    "\n",
    "The square root of a number is a specified quantity given when multiplied by itself. In mathematics it is generally represented  by the radical sign or radix √. It must be a positive number though in mathematics square roots of negative numbers are sometimes used and  are  known as imaginary numbers. The square root of 2 is known as an irrtaional number as it cannot be expressed as a fraction and has a never ending number of decimal numbers. \n",
    "\n",
    "## History\n",
    "\n",
    "The Pythagorean philosophers had a great focus on numbers and geometry and and guarded it as secret knowledge believeing they wwere gaining insight into  the make up of the universe itself. They believed all numbers were rational and could be expressed as a ratio of integer values. \n",
    "\n",
    "It is believed  that their belief in this concept was so strong that when when Hippasus discovered irrational numbers he was thrown from a boat and left to drown though this  event is seen as more of a myth than concrete factual truth due to conflicting reports from Iamblichus.<sup>[[1.1]](#Source1)</sup>\n",
    "\n",
    "## Limitations\n",
    "\n",
    "Python has some built in limitations on how it runs its calculations. This is due to the fact that Python works on a base 2 system which cannot represent all decimal fractions exactly. This results in decimal floating-point numbers being approximated by the binary number stored. Floats are generally calculated using the first 53 bits beginning with the significant bit with a denominator as a power of 2.\n",
    "\n",
    "This is not a unique feature of a binary system. All base systems have limitations on their accuracies. If we consider our well understood base 10 system the fraction 1/3 can never be brought to it's full decimal representation. It can be shown to be 0.3, 0.33,  0.333 etc. Each additionnal decimal point brings us closer to the true value but we never reach the final value.<sup>[[1.2]](#Source1)</sup>\n",
    "\n",
    "## Computational Methods\n",
    "\n",
    "There are several computational methods of calcluting the squareroot of a number. We shall be delving into the below methods-\n",
    "* Babylonian Method\n",
    "* Newton-Raphson Method\n",
    "\n",
    "## Babylonian Method\n",
    "\n",
    "This was one of the first known alogorithms for computing the square root of a number. It is believed to have been discovered in about 1,500BC by the babylonians and is also known as the Heron's Method. It works by guessing an initial over estimate number x<sub>0</sub> to the square root of a non negative real number S. Then S/x<sub>0</sub> will be an under estimate providing a better approximation of the real value by an average of the 2 numbers using the below formula. This is a special case of the Newton formula as you can see in the Newton-Raphson method below. <sup>[[1.3]](#Source1)[[1.4]](#Source1)</sup>\n",
    "\n",
    "<img align=\"left\" src=\"images/Task_1/babylonian_average.png\">"
   ]
  },
  {
   "cell_type": "code",
   "execution_count": 12,
   "metadata": {},
   "outputs": [
    {
     "name": "stdout",
     "output_type": "stream",
     "text": [
      "Iteration 1 value is 1.5\n",
      "Iteration 2 value is 1.4166666666666665\n",
      "Iteration 3 value is 1.4142156862745097\n",
      "Iteration 4 value is 1.4142135623746899\n",
      "Iteration 5 value is 1.414213562373095\n",
      "Iteration 6 value is 1.414213562373095\n"
     ]
    },
    {
     "data": {
      "text/plain": [
       "'1.4142135623730949234300169337075203657150268554687500000000000000000000000000000000000000000000000000'"
      ]
     },
     "execution_count": 12,
     "metadata": {},
     "output_type": "execute_result"
    }
   ],
   "source": [
    "def BABYLONIAN(n): # https://www.w3resource.com/python-exercises/math/python-math-exercise-18.php\n",
    "    \n",
    "    if(n == 0): # When n=0 the square root will be 0\n",
    "        return 0;\n",
    "\n",
    "    g = n/2.0; #First guess \n",
    "    g2 = g + 1; \n",
    "    Iteration = 1;\n",
    "    while(g != g2):      \n",
    "        num = n/ g;\n",
    "        g2 = g;\n",
    "        g = (g + num)/2;\n",
    "        print(\"Iteration\", Iteration, \"value is\",g)\n",
    "        Iteration = Iteration + 1\n",
    "\n",
    "    return (\"%.100f\" %g)\n",
    "\n",
    "BABYLONIAN(2)"
   ]
  },
  {
   "cell_type": "markdown",
   "metadata": {},
   "source": [
    "While this does give us an approximate value of the square root off 2 this still does not solve thhe issue at hand to find the square root of 2 due to the limitations of python mentioned above. \n",
    "\n",
    "From the government organsiation Nasa we can see that the square root of 2 to 100 decimal place is 1.4142135623730950488016887242096980785696718753769480731766797379907324784621070388503875343276415727<sup>[[1.5]](#Source1)</sup>\n",
    "\n",
    "To overcome this we will be using thee Newton-Raphson method shown below with the new origin number greatly increased to remove the float limitations. "
   ]
  },
  {
   "cell_type": "markdown",
   "metadata": {},
   "source": [
    "## Newton-Raphson Method\n",
    "\n",
    "The Newton-Raphson method is an iterative method where each succesive iteration brings the result closer to the true value of the answer after finding a suitable starting value. The closer the initially selected value is to the answer the less itteratons  are required to produce the answer. It uses the idea that a continuous and differentiable function can be approximated by a straight line tangent to it.\n",
    "\n",
    "If x = √a for a > 0 then we need to solve for x<sup>2</sup> = a. To start Newtons method of solving this problem we need to have some guess for the value of x where x<sub>1</sub>>0. \n",
    "\n",
    "We can then begin with the first iteration with a single variable function f and an initial guess x<sub>0</sub> \n",
    "\n",
    "<img align=\"left\" src=\"images/Task_1/first_iteration.png\"><br><br>\n",
    "\n",
    "Succesive iterations can then be represented by the formula-\n",
    "\n",
    "<img align=\"left\" src=\"images/Task_1/newton_function_formula.png\"><br><br>\n",
    "\n",
    "This can be further developed into the equation below to calculate our new iterative values-\n",
    "\n",
    "<img align=\"left\" src=\"images/Task_1/newton_formula.PNG\"><br><br>\n",
    "\n",
    "Each iteration calculated will bring us closer to the true value required. Belowe we can see the code required to calculate the value of the squre root we require to the correct decimal  precision. To do this we have greatly incresed the initial value to overcome the limitations of pythons floats and then at the end cut it back down to give us the value we require.<sup>[[1.6]](#Source1)[[1.7]](#Source1)[[1.8]](#Source1)[[1.9]](#Source1)</sup>"
   ]
  },
  {
   "cell_type": "code",
   "execution_count": 2,
   "metadata": {},
   "outputs": [
    {
     "name": "stdout",
     "output_type": "stream",
     "text": [
      "1.4142135623730950488016887242096980785696718753769480731766797379907324784621070388503875343276415727\n"
     ]
    }
   ],
   "source": [
    "def NEWTON(n): # https://stackoverflow.com/questions/64278117/is-there-a-way-to-create-more-decimal-points-on-python-without-importing-a-libra\n",
    "    x = n * 10 ** 200 # Value increased to get required precision due to Python limitations\n",
    "    r = x\n",
    "\n",
    "    if(x == 0): # When n=0 the square root will be 0\n",
    "        return 0;\n",
    "    \n",
    "    def test_diffs(x, r):\n",
    "        d0 = abs(x - r**2)\n",
    "        dm = abs(x - (r-1)**2)\n",
    "        dp = abs(x - (r+1)**2)\n",
    "        minimised = d0 <= dm and d0 <= dp\n",
    "        below_min = dp < dm\n",
    "        return minimised, below_min\n",
    "\n",
    "    while True:\n",
    "        oldr = r\n",
    "        r = (r + x // r) // 2\n",
    "\n",
    "        minimised, below_min = test_diffs(x, r)\n",
    "        if minimised:\n",
    "            break\n",
    "\n",
    "        if r == oldr:\n",
    "            if below_min:\n",
    "                r += 1\n",
    "            else:\n",
    "                r -= 1\n",
    "            minimised, _ = test_diffs(x, r)\n",
    "            if minimised:\n",
    "                break\n",
    "\n",
    "    print(f'{r // 10**100}.{r % 10**100:0100d}')\n",
    "\n",
    "NEWTON(2)"
   ]
  },
  {
   "cell_type": "markdown",
   "metadata": {},
   "source": [
    "## Conclusion\n",
    "\n",
    "Due too the limitations of pythons ability to count floats the number had to be greatly increased to determine an accurate value of the required square root and then divided  back down again before displaying the final answer. The base 2 system should always be a consideration when running any kind of calculations especially in an environment where pin point accuracy is essential for effective implementation of the code."
   ]
  },
  {
   "cell_type": "markdown",
   "metadata": {},
   "source": [
    "## <a id='Source1'>Sources-</a>\n",
    "\n",
    "[1.1] wikipedia.org, \"Hippasus\", [online], https://en.wikipedia.org/wiki/Hippasus#Irrational_numbers\n",
    "\n",
    "[1.2] python.org, \"floating Point\", [online], https://docs.python.org/3/tutorial/floatingpoint.html\n",
    "\n",
    "[1.3] wikipedia.org, \"Methods of computing square roots\", [online], https://en.wikipedia.org/wiki/Methods_of_computing_square_roots#Babylonian_method\n",
    "\n",
    "[1.4] w3resource, \"python exercises\"https://www.w3resource.com/python-exercises/math/python-math-exercise-18.php\n",
    "\n",
    "[1.5] apod.nasa.gov, \"sqrt2\", [online], https://apod.nasa.gov/htmltest/gifcity/sqrt2.1mil\n",
    "\n",
    "[1.6] wikipedia.org, \"Newtons Method\", [online], https://en.wikipedia.org/wiki/Newton%27s_method\n",
    "\n",
    "[1.7] brilliant, \"newton-sqrt\", [online], https://brilliant.org/wiki/newton-raphson-method/\n",
    "\n",
    "[1.8] math.mit.edu, \"newton-sqrt\", [online], https://math.mit.edu/~stevenj/18.335/newton-sqrt.pdf\n",
    "\n",
    "[1.9] cosmomagazine.com, \"the-square-root-of-2\", [online], https://cosmosmagazine.com/mathematics/the-square-root-of-2/"
   ]
  },
  {
   "cell_type": "markdown",
   "metadata": {},
   "source": [
    "# <a id='Task2'>Task 2 Chi-squared Test</a>"
   ]
  },
  {
   "cell_type": "markdown",
   "metadata": {},
   "source": [
    "## Introduction\n",
    "\n",
    "Task 2 has specified that we need to use the scipy.stats to verify the chi-squared value of the of the array given as shown below and calculate its  associated <i>p</i> value. We also need to include a short note with references justifying the analysis  in a markdown cell.\n",
    "\n",
    "![chi_squared_array](images/Task_2/chi_squared_array.png)\n",
    "\n",
    "## History\n",
    "\n",
    "The chi squared test can also be written as the <i>χ<sup>2</sup></i>. It is a statistical hypothesis test for checking if two categorical variables are related in some population by checking if there is a statistically significant difference between the expected outcomes and the observed frequencies in the categories of a contingency table. It was published in a paper by Karl Pearson in 1900 and is considered a foundation of modern statistics. <sup>[[2.1]](#Source2)</sup><sup>[[2.2]](#Source2)</sup>\n",
    "\n",
    "## Use Case\n",
    "\n",
    "The purpose of the test is to evaluate a null hypotesis showing the frequency distribution of events in a certain sample  size are in line with the theoretical predicted outcome. The chi squared test can only be used on numbers and cannot be used on percentages, proportions or othersimilar statistical values.\n",
    "\n",
    "The formula for the chi-square test is as shown-\n",
    "\n",
    "\\begin{align*}\n",
    "\\chi_c^2 =\n",
    "\\sum\n",
    "    \\frac{(O_i - E_i)^2}{E_i}\n",
    "\\end{align*}\n",
    "\n",
    "<i>i-</i> position on the table.\n",
    "\n",
    "<i>c-</i> degrees of freedom. This refers to the quantity of independent pieces of information to be used in the calculation. It can be calculated as-\n",
    "\n",
    "dof  = (rows - 1)  * (columns - 1)\n",
    "\n",
    "<i>O-</i> the observed value. The measured values given to us to base our calculation on.\n",
    "\n",
    "<i>E-</i> expected value. The expected return based on the assumption that tthe null hypothesis is true.<sup>[[2.6]](#Source2)</sup>\n",
    "\n",
    "The null hypothesis (H<sub>0</sub>)in statistics refers to the default assumption that there are no differences between two measured phenomena or that the samples are taken from the same source. Therefore a low value of chi-square would indicate a high correlation between the sources accepting the null hypothesis. A  large value of chi-square would indicate a significant difference between the sources rejecting the null hypothesis.\n",
    "\n",
    "There are a number of tests available based on the chi squared test as listed below-\n",
    "- Cochran–Mantel–Haenszel chi-squared test.\n",
    "- McNemar's test, used in certain 2 × 2 tables with pairing\n",
    "- Tukey's test of additivity\n",
    "- The portmanteau test in time-series analysis\n",
    "- Likelihood-ratio tests in general statistical modelling\n",
    "- Binomial test\n",
    "- Fischers exact test\n",
    "\n",
    "The chi-squared test is used regularly in cryptographic problems and bioinformatics in comparing properties of genes.\n",
    "\n",
    "Below is an example of the chi squared test in practice-\n",
    "\n",
    "Firstly we need to generate  the contingency table to be used for the observed values of the calculation where the rows represent a category for a single variable and the column represents a category for the other variable.  "
   ]
  },
  {
   "cell_type": "code",
   "execution_count": 14,
   "metadata": {},
   "outputs": [
    {
     "name": "stdout",
     "output_type": "stream",
     "text": [
      "Contingency Table\n",
      "                A    B    C    D  Total\n",
      "White Collar   90   60  104   95    349\n",
      "Blue Collar    30   50   51   20    151\n",
      "No Collar      30   40   45   35    150\n",
      "Total         150  150  200  150    650\n"
     ]
    }
   ],
   "source": [
    "# import required packages to run the test\n",
    "import seaborn as sns\n",
    "import pandas as pd\n",
    "import numpy as np\n",
    "import scipy.stats as ss\n",
    "\n",
    "# create the array required representing the table date shown above\n",
    "table = pd.DataFrame([[90,60,104,95,349],[30,50,51,20,151],[30,40,45,35,150],[150,150,200,150,650]], index=[\"White Collar\",\"Blue Collar\",\"No Collar\",\"Total\"], columns=[\"A\",\"B\",\"C\",\"D\",\"Total\"])\n",
    "print(\"Contingency Table\")\n",
    "print(table)"
   ]
  },
  {
   "cell_type": "markdown",
   "metadata": {},
   "source": [
    "Then using the scipy.stats library we can generate a table of the expected values using the values determined from the return of the scipy.stats.chi2_contingency(table) function being used on the generated contingency table above. "
   ]
  },
  {
   "cell_type": "code",
   "execution_count": 15,
   "metadata": {
    "scrolled": true
   },
   "outputs": [
    {
     "name": "stdout",
     "output_type": "stream",
     "text": [
      "\n",
      "Chi-Squared Stat: 24.571202858582602\n",
      "p value: 0.016990737760739776\n",
      "Degrees of freedom: 12 \n",
      "\n",
      "Expected Table\n",
      "[[ 80.53846154  80.53846154 107.38461538  80.53846154 349.        ]\n",
      " [ 34.84615385  34.84615385  46.46153846  34.84615385 151.        ]\n",
      " [ 34.61538462  34.61538462  46.15384615  34.61538462 150.        ]\n",
      " [150.         150.         200.         150.         650.        ]]\n"
     ]
    }
   ],
   "source": [
    "# run the chi test on the created contingency table above and assign variables\n",
    "stat,p,dof,expected = ss.chi2_contingency(table) \n",
    "print(\"\\nChi-Squared Stat:\",stat) #  Sum of the totals chi square points. Chi square points =(Observed - Expected)^2/Expected \n",
    "print(\"p value:\",p) # a measure of the probability that an observed difference could have occurred just by random chance\n",
    "print('Degrees of freedom: %d \\n' % dof) # degrees of freedom (total columns -1)*(total rows -1)\n",
    "\n",
    "print(\"Expected Table\")\n",
    "print(expected) # expected return array"
   ]
  },
  {
   "cell_type": "markdown",
   "metadata": {},
   "source": [
    "For the test to be effective the expected outcome of each category must be equal to at least 5. According to the generated table above we pass this check. Now that we have the expected table we can start to test the null hypotheses against it using the percent point function (ppf) to calculate the critical value and also check it against the alpha value  generated from the probability value."
   ]
  },
  {
   "cell_type": "code",
   "execution_count": 1,
   "metadata": {},
   "outputs": [
    {
     "name": "stdout",
     "output_type": "stream",
     "text": [
      "\n",
      "Interpret test-statistic\n"
     ]
    },
    {
     "ename": "NameError",
     "evalue": "name 'ss' is not defined",
     "output_type": "error",
     "traceback": [
      "\u001b[1;31m---------------------------------------------------------------------------\u001b[0m",
      "\u001b[1;31mNameError\u001b[0m                                 Traceback (most recent call last)",
      "\u001b[1;32m<ipython-input-1-18c6b2cc0de4>\u001b[0m in \u001b[0;36m<module>\u001b[1;34m\u001b[0m\n\u001b[0;32m      1\u001b[0m \u001b[0mprint\u001b[0m\u001b[1;33m(\u001b[0m\u001b[1;34m\"\\nInterpret test-statistic\"\u001b[0m\u001b[1;33m)\u001b[0m\u001b[1;33m\u001b[0m\u001b[1;33m\u001b[0m\u001b[0m\n\u001b[0;32m      2\u001b[0m \u001b[0mprob\u001b[0m \u001b[1;33m=\u001b[0m \u001b[1;36m0.95\u001b[0m \u001b[1;31m# Confidence level\u001b[0m\u001b[1;33m\u001b[0m\u001b[1;33m\u001b[0m\u001b[0m\n\u001b[1;32m----> 3\u001b[1;33m \u001b[0mcritical\u001b[0m \u001b[1;33m=\u001b[0m \u001b[0mss\u001b[0m\u001b[1;33m.\u001b[0m\u001b[0mchi2\u001b[0m\u001b[1;33m.\u001b[0m\u001b[0mppf\u001b[0m\u001b[1;33m(\u001b[0m\u001b[0mprob\u001b[0m\u001b[1;33m,\u001b[0m \u001b[0mdof\u001b[0m\u001b[1;33m)\u001b[0m \u001b[1;31m# Calculate the critical value to be used to check against the stat value for a confidence level of 95%\u001b[0m\u001b[1;33m\u001b[0m\u001b[1;33m\u001b[0m\u001b[0m\n\u001b[0m\u001b[0;32m      4\u001b[0m \u001b[1;33m\u001b[0m\u001b[0m\n\u001b[0;32m      5\u001b[0m \u001b[0mprint\u001b[0m\u001b[1;33m(\u001b[0m\u001b[1;34m'probability=%.2f, critical=%.2f, stat=%.1f'\u001b[0m \u001b[1;33m%\u001b[0m \u001b[1;33m(\u001b[0m\u001b[0mprob\u001b[0m\u001b[1;33m,\u001b[0m \u001b[0mcritical\u001b[0m\u001b[1;33m,\u001b[0m \u001b[0mstat\u001b[0m\u001b[1;33m)\u001b[0m\u001b[1;33m)\u001b[0m\u001b[1;33m\u001b[0m\u001b[1;33m\u001b[0m\u001b[0m\n",
      "\u001b[1;31mNameError\u001b[0m: name 'ss' is not defined"
     ]
    }
   ],
   "source": [
    "print(\"\\nInterpret test-statistic\")\n",
    "prob = 0.95 # Confidence level\n",
    "critical = ss.chi2.ppf(prob, dof) # Calculate the critical value to be used to check against the stat value for a confidence level of 95%\n",
    "\n",
    "print('probability=%.2f, critical=%.2f, stat=%.1f' % (prob, critical, stat))\n",
    "\n",
    "# Check dependency\n",
    "if abs(stat) >= critical:\n",
    "    print('Stat value is greater than or equal to the critical value. Therefore the tables are dependent (reject H0)')\n",
    "else:\n",
    "    print('Stat value is less than the critical value. Therefore the tables are independent (fail to reject H0)')\n",
    "\n",
    "# Do a second check of dependcy against p-value.\n",
    "print(\"\\nInterpret p-value\") \n",
    "alpha = 1.0 - prob\n",
    "print('significance=%.3f, p=%.3f' % (alpha, p))\n",
    "\n",
    "if p <= alpha:\n",
    "    print('p-value is less than or equal to the alpha value. Therefore the tables are dependent (reject H0)')\n",
    "else:\n",
    "    print('p-value is not less than the alpha value. Therefore the tables are independent (fail to reject H0)')\n"
   ]
  },
  {
   "cell_type": "markdown",
   "metadata": {},
   "source": [
    "From above we can see that we can reject the null hypothesis that the variables are independent and can say thaat the variables are dependent. "
   ]
  },
  {
   "cell_type": "markdown",
   "metadata": {},
   "source": [
    "## <a id='Source2'>Sources-</a>\n",
    "\n",
    "[2.1] wikipedia.org, \"Chi-squared_test\", [online], https://en.wikipedia.org/wiki/Chi-squared_test\n",
    "\n",
    "[2.2] wikipedia.org, \"Pearson's chi-squared test\", [online], https://en.wikipedia.org/wiki/Pearson%27s_chi-squared_test\n",
    "\n",
    "[2.3] machinelearningmastery.com, \"A Gentle Introduction to the Chi-Squared Test for Machine Learning\", [online], https://machinelearningmastery.com/chi-squared-test-for-machine-learning/\n",
    "\n",
    "[2.4] docs.scipy.org, \"scipy.stats.chi2_contingency\", [online], https://docs.scipy.org/doc/scipy/reference/generated/scipy.stats.chi2_contingency.html\n",
    "\n",
    "[2.5] stattrek.com, \"Chi-Square Goodness of Fit Test\", [online], https://stattrek.com/chi-square-test/goodness-of-fit.aspx#:~:text=The%20P%2Dvalue%20is%20the%20probability%20that%20a%20chi%2Dsquare,2%20%3E%2019.58)%20%3D%200.0001.\n",
    "\n",
    "[2.6] statisticshowto.com, \"Chi-Square Statistic: How to Calculate It / Distribution\", [online], https://www.statisticshowto.com/probability-and-statistics/chi-square/"
   ]
  },
  {
   "cell_type": "markdown",
   "metadata": {},
   "source": [
    "# <a id='Task3'>Task 3 Standard Deviation of an Array</a>"
   ]
  },
  {
   "cell_type": "markdown",
   "metadata": {},
   "source": [
    "## Introducution\n",
    "\n",
    "For task 3 we have been asked to research thee excel functions STDEV.P and STDEV.S noting the differences between these two similar functions.  We are then tasked with using the numpy package to perform a simiulation demonstrating that STDEV.S caculation is a better estimate for the standard deviation of the population when performed on a sample. Part of the task is also figuring out the various terminology used.\n",
    "\n",
    "## Research\n",
    "\n",
    "The standard deviation of an array of numbers x is calculated using numpy with the below notation-\n",
    "\n",
    "np.sqrt(np.sum((x-np.mean(x)^2)/len(x)).\n",
    "\n",
    "To use this an excel we would use the functions STDEV.P (standard deviation population) and STDEV.S (Standard deviation sample). STDEV.P is to be used when the data represents the entire population.  If just a sample of the population is given then STDEV.S is used. \n",
    "\n",
    "The difference between these two feature is in the division.  In STDEV.P the squared  deviation is divided by the total number of arguments represented by x in the above numpy formula. In STDEV.S the squared deviation is divided by the total number of samples -1. <sup>[[3.1]](#Source3)</sup>\n",
    "\n",
    "Before we move forward we should define a few of the functions we're discussing. \n",
    "\n",
    "##  Definitions\n",
    "\n",
    "<b>Population-</b> The entire pool which a sample is taken and known as a parameter. This can vary in size depending on the desired information the user is looking for. It can be defined as an group of subjects sharing a common feature. It is generally represented by the upper case N in statistics. <sup>[[3.2]](#Source3)</sup>\n",
    "\n",
    "<b>Sample-</b> A sample refers to a subset of the population and is known as a statistic. Samples are generally used to have a more manageable version of the larger population and carry the same characteristic features of the population. It is important to ensure that the sample taken covers the range of features required. If a sample is used in place of population it is generally represented by the lower case n. <sup>[[3.3]](#Source3)</sup>\n",
    "\n",
    "<b>Mean-</b> The sum of the datapoints divided by the total quantity of datapoints. This is represented slightly differently between population and samples but is ultimately the same equation as shown below.\n",
    "- <i>Population-</i>\n",
    "\\begin{align*}\n",
    "\\mu= \n",
    "\\frac\n",
    "    {\\sum_{i=1}^N x_{i}}\n",
    "    {N}\n",
    "\\end{align*}\n",
    "\n",
    "- <i>Sample-</i>\n",
    "\\begin{align*}\n",
    "\\overline{x}= \n",
    "\\frac\n",
    "    {\\sum_{i=1}^n x_{i}}\n",
    "    {n}\n",
    "\\end{align*}\n",
    "\n",
    "<b>Variability-</b> This refers to how spread out the datapoints of a series are from their average value. The higher the number the larger the gaps  between a sequence of numbers. There is a diffference between the population and sample formulas used and also within the sample formulas themselves there are two formulas to be considered known as the biased and unbiased  formulas. The bias formula is known as Bessel's correction. Bias will be explained below.\n",
    "\n",
    "- <i>Population-</i>\n",
    "\\begin{align*}\n",
    "\\sigma^2 = \n",
    "\\frac\n",
    "        {\\sum_{i=1}^N (x_{i} - \\mu)^2}\n",
    "        {N}\n",
    "\\end{align*}\n",
    "\n",
    "- <i>Sample-</i>\n",
    "\n",
    "<u>Biased Estimate</u>\n",
    "\\begin{align*}\n",
    "S_{n}^2 = \n",
    "\\frac\n",
    "        {\\sum_{i=1}^n (x_{i} - \\overline{x})^2}\n",
    "        {n}\n",
    "\\end{align*}\n",
    "\n",
    "<u>Unbiased Estimate</u>\n",
    "\\begin{align*}\n",
    "S_{n-1}^2 = \n",
    "\\frac\n",
    "        {\\sum_{i=1}^n (x_{i} - \\overline{x})^2}\n",
    "        {n-1}\n",
    "\\end{align*}\n",
    "\n",
    "<b>Standard Deviation-</b> This is the square root of the variance shown above and brings the units back to the non squared units. It is a measure of dispersion of the values of a series from their mean. Just like in variability there are seperate equations for the population and sample calculations shown below.\n",
    "\n",
    "- <i>Population-</i> The population standard deviation is a fixed value calculated for all datapoints of the population and is represented by the equation below-\n",
    "\\begin{align*}\n",
    "\\sigma = \n",
    "\\sqrt[]{\n",
    "    \\frac\n",
    "        {\\sum_{i=1}^N (x_{i} - \\mu)^2}\n",
    "        {N}\n",
    "}\n",
    "\\end{align*}\n",
    "\n",
    "- <i>Sample-</i> A sample  is a subset of the population known as a statistic. The equation for this is shown below. This is slightly different than the population standard deviation in that it's divided  by n-1 instead of n.  This is known as the unbiased estimate of the population and the reasons will be explained shortly-\n",
    "\n",
    "\\begin{align*}\n",
    "\\sigma = \n",
    "\\sqrt[]{\n",
    "    \\frac\n",
    "        {\\sum_{i=1}^n (x_{i} - \\overline{x})^2}\n",
    "        {n-1}\n",
    "}\n",
    "\\end{align*}\n",
    "\n",
    "<b>Deviation-</b> The difference between an observed vlue and some other value. Generally the other value is the mean as is the case n the standard deviation formula above. It is represented by the equation-\n",
    "\\begin{align*}\n",
    "(x_{i} - \\overline{x})\n",
    "\\end{align*}\n",
    "\n",
    "<b>Bias-</b> A feature of a parametere where the expected result is different from the calculated actual result. \n",
    "\n",
    "As we can see from the equations above the standard deviation for the sample has a smaller division than the standard deviation formula for the population. Because the sample is only a subset of the population the standard deviation calculated can have great variability. This results in the sample standard deviation being a larger value than the population standard deviation if using the popluation formula of N in place of the samples required n-1. This is know as a biased estimate of the population. \n",
    "\n",
    "To avoid this issue we use the unbiased form of the equation for a sample. This is a way of accounting for the larger variabaility within the sample compared to the populaton due  to the fact that it's only a set amount of the population being used as datapoints. As the n value grows toward infinity the n-1 values becomes less and less relevant in magnitude.<sup>[[3.5]](#Source3)</sup>\n",
    "\n",
    "Below is an example of the standard deviation calculation of a population of 1,000 datapoints of  a number between 1 and 100. The standard deviation of  the total population is calculated and then a random sample of 50  is taken from the generated population and both the biased and unbiased standard deviation is calculated. "
   ]
  },
  {
   "cell_type": "code",
   "execution_count": 17,
   "metadata": {
    "scrolled": true
   },
   "outputs": [
    {
     "name": "stdout",
     "output_type": "stream",
     "text": [
      "The standard deviation of the population is 28.738672046564712\n",
      "\n",
      "Using STDEV.P the average reading of a random sample of 50  taken from a population of 1,000 done over 100 iterations returns as 28.746636075023833. This is a difference from the actual population standard deviation of 0.007964028459120698\n",
      "\n",
      "Using STDEV.S the average reading of a random sample of 50  taken from a population of 1,000 done over 100 iterations returns as 28.42967365277563. This is a difference from the actual population standard deviation of 0.3089983937890821\n"
     ]
    }
   ],
   "source": [
    "import matplotlib.pyplot as plt\n",
    "import statistics as stat\n",
    "\n",
    "# Take the average of a calculation STDEV_P carried out on a new iteration of a random sample of 50  tkaen from the generated population\n",
    "def stdev_p(pop):\n",
    "    avg_STDDEV_P = []\n",
    "    for i in range(50):\n",
    "        x = np.random.randint(950)\n",
    "        reading = np.std(pop[x:(x+50)])\n",
    "        avg_STDDEV_P.append(reading)\n",
    "    return  stat.mean(avg_STDDEV_P)\n",
    "\n",
    "# Take the average of a calculation STDEV_S carried out on a new iteration of a random sample of 50  tkaen from the generated population\n",
    "def stdev_s(pop):\n",
    "    avg_STDDEV_S = []\n",
    "    for i in range(50):\n",
    "        x = np.random.randint(950)\n",
    "        reading = np.std(pop[x:(x+50)], ddof = 1)\n",
    "        avg_STDDEV_S.append(reading)\n",
    "    return  stat.mean(avg_STDDEV_S)\n",
    "\n",
    "# Generate 1,000 random integers of between 0 and 100 for use on standard deviation calculation\n",
    "pop = np.random.randint(100, size=1000) \n",
    "\n",
    "pop_STDEV_P = np.std(pop)\n",
    "print(f\"The standard deviation of the population is {pop_STDEV_P}\")\n",
    "\n",
    "STDEV_P = stdev_p(pop)\n",
    "STDEV_S = stdev_s(pop)\n",
    "print(f\"\\nUsing STDEV.P the average reading of a random sample of 50  taken from a population of 1,000 done over 100 iterations returns as {STDEV_P}. This is a difference from the actual population standard deviation of {abs(STDEV_P - pop_STDEV_P)}\")\n",
    "print(f\"\\nUsing STDEV.S the average reading of a random sample of 50  taken from a population of 1,000 done over 100 iterations returns as {STDEV_S}. This is a difference from the actual population standard deviation of {abs(STDEV_S - pop_STDEV_P)}\")"
   ]
  },
  {
   "cell_type": "markdown",
   "metadata": {},
   "source": [
    "## Results\n",
    "\n",
    "To achieve  a fair representation of the biased and unbiased calculations the formulas were iterated through 50 times each and an average value taken. This is to minimise statistical  annomalies and give  a better representation of their  true calculated values. \n",
    "\n",
    "From the returned values of the above calculations we can see that while both the biased and unbiased standard deviations are a close approximation of the true standrard deviation of the population, the unbiased calculation is a better estimate for the true  value. \n",
    "\n",
    "As discussed above this is due to the greater variability created by taking samples from a population. This leads to an over estimation of the standard deviation which must be accounted for.  The n-1 is a method of accounting for  this over estimaton.\n"
   ]
  },
  {
   "cell_type": "markdown",
   "metadata": {},
   "source": [
    "## <a id='Source3'>Sources</a>\n",
    "\n",
    "[3.1] exceltip.com, \"How to use Excel STDEV.P Function\", [online], https://www.exceltip.com/statistical-formulas/how-to-use-excel-stdev-p-function.html#:~:text=Let's%20Explore.-,The%20STDEV.,sample%20of%20the%20entire%20population.\n",
    "\n",
    "[3.2] investopedia.com, \"Population Definition\", [online], https://www.investopedia.com/terms/p/population.asp\n",
    "\n",
    "[3.3] investopedia.com, \"Sample\", [online], https://www.investopedia.com/terms/s/sample.asp\n",
    "\n",
    "[3.4] khanacademy.org, \"Why we divide by n-1 for unbiased sample variance\", [online], https://www.khanacademy.org/math/ap-statistics/summarizing-quantitative-data-ap/more-standard-deviation/v/review-and-intuition-why-we-divide-by-n-1-for-the-unbiased-sample-variance\n",
    "\n",
    "[3.5] khanacademy.org, \"Population and sample standard deviation review\", [online], https://www.khanacademy.org/math/statistics-probability/summarizing-quantitative-data/variance-standard-deviation-sample/a/population-and-sample-standard-deviation-review"
   ]
  },
  {
   "cell_type": "markdown",
   "metadata": {},
   "source": [
    "# <a id='Task4'>Task 4 k-means on the Iris data set</a>"
   ]
  },
  {
   "cell_type": "markdown",
   "metadata": {},
   "source": [
    "For the final task we were asked to use scikit-learn to apply k-means clustering to Fisher's Iris data set. We have to explain how the code works and how accurate it might be and explain how the model could be used to make predictions of Iris species.\n",
    "\n",
    "## Research\n",
    "Clustering is an exploratory data analysis technique. It's used to get an idea of the structure of the data and is used in identifying homogenous subgroups within overall data sets. Clusters are as similar as possible according to a similarity measure.<sup>[[4.1]](#Source4)</sup>\n",
    "\n",
    "The K-means algorithm seperates samples into a number of groups of equal variance, minimising a criterion known as the inertia or within-cluster sum-of-squares by t he use of centroids and datapoints distance from these points. The number of groups it is to be seperated into is specified by the use. The algorithm is known to scale well to large scale deployment and has been used across mulitple fields and applications. The K-means formula is shown below-<sup>[[4.2]](#Source4)</sup>\n",
    "\n",
    "\\begin{align*}\n",
    "\\sum_{i=0}^n \\min_{\\mu_{j} \\in C} (||x_{i} - \\mu_{j} ||^2)\n",
    "\\end{align*}\n",
    "\n",
    "From the scikit package we get can use the K-means formula with the following command-\n",
    "\n",
    "class sklearn.cluster.KMeans(n_clusters=8, *, init='k-means++', n_init=10, max_iter=300, tol=0.0001, precompute_distances='deprecated', verbose=0, random_state=None, copy_x=True, n_jobs='deprecated', algorithm='auto')\n",
    "\n",
    "For an in depth look at each individual point in this formula please see the link in the source. <sup>[[4.3]](#Source4)</sup>"
   ]
  },
  {
   "cell_type": "markdown",
   "metadata": {},
   "source": [
    "## Clusters\n",
    "\n",
    "First we will be looking at the optimal amount of clusters to input to the formula for  the dataset. The method of doing this is known as the elbow method. This runs K-means clustering on the dataset for a range of values of k and for each value calculating the sum of the squared distances. This is then used to plot a chart and the major bend (elbow) on the chart is the number of clusters to use. The goal of this method is to choose a small value of k that still has a low sum of squared distances. The elbow in this case would represent the point of diminishing returns. It should be noted that in cases where the data is very clustered together this method may not be suitable and an alternative may be required as this would not present a clear elbow on the chart. Alternative methods to use in these cases would be average silhouette method or the gap statistic method. <sup>[[4.4](#Source4)]</sup> <sup>[[4.5]](#Source4)</sup>"
   ]
  },
  {
   "cell_type": "code",
   "execution_count": 18,
   "metadata": {},
   "outputs": [
    {
     "name": "stdout",
     "output_type": "stream",
     "text": [
      "   sepal_length  sepal_width  petal_length  petal_width species\n",
      "0           5.1          3.5           1.4          0.2  setosa\n",
      "1           4.9          3.0           1.4          0.2  setosa\n",
      "2           4.7          3.2           1.3          0.2  setosa\n",
      "3           4.6          3.1           1.5          0.2  setosa\n",
      "4           5.0          3.6           1.4          0.2  setosa\n"
     ]
    },
    {
     "data": {
      "image/png": "[encoded data removed]",
      "text/plain": [
       "<Figure size 432x288 with 1 Axes>"
      ]
     },
     "metadata": {
      "needs_background": "light"
     },
     "output_type": "display_data"
    }
   ],
   "source": [
    "#https://blog.cambridgespark.com/how-to-determine-the-optimal-number-of-clusters-for-k-means-clustering-14f27070048f\n",
    "\n",
    "import pandas as pd\n",
    "from sklearn.preprocessing import MinMaxScaler\n",
    "from sklearn.cluster import KMeans\n",
    "import matplotlib.pyplot as plt\n",
    "\n",
    "# Read data and, check a view of the top 5 columns and remove the species column as we need to work with numbers to get the data\n",
    "data = pd.read_csv(\"iris.csv\")\n",
    "print(data.head())\n",
    "x = data.iloc[:, [0, 1, 2, 3]].values # Creat array of csv data removing the species column as not required for calcs\n",
    "\n",
    "mms = MinMaxScaler() \n",
    "mms.fit(x) # Compute the minimum and maximum values for scaling\n",
    "x_transformed = mms.transform(x) # Scale the features of the dataset to fit within the range\n",
    "\n",
    "Sum_of_squared_distances = [] # Create empty array to be populated by the kmeans inertia factor\n",
    "K = range(1,15)\n",
    "for k in K:\n",
    "    km = KMeans(n_clusters=k)\n",
    "    km = km.fit(x_transformed)\n",
    "    Sum_of_squared_distances.append(km.inertia_)\n",
    "    \n",
    "plt.plot(K, Sum_of_squared_distances, 'bx-')\n",
    "plt.xlabel('k')\n",
    "plt.ylabel('Sum_of_squared_disbtances')\n",
    "plt.title('Elbow Method For Optimal k')\n",
    "plt.show()"
   ]
  },
  {
   "cell_type": "markdown",
   "metadata": {},
   "source": [
    "From the above graph we can see that the elbow  point for the code is at the k=3 mark. This prorvides us with an optimal number of clusters. This corresponds with the number of species and would be expected in a dataset such as this. Below we will input the optimal cluster quantity into the k-means formula and provide a graph of the dataset provided with the centroids shown  for the sepal length and width plotted."
   ]
  },
  {
   "cell_type": "code",
   "execution_count": 19,
   "metadata": {
    "scrolled": false
   },
   "outputs": [
    {
     "data": {
      "text/plain": [
       "Text(0, 0.5, 'Sepal Width')"
      ]
     },
     "execution_count": 19,
     "metadata": {},
     "output_type": "execute_result"
    },
    {
     "data": {
      "image/png": "[encoded data removed]",
      "text/plain": [
       "<Figure size 432x288 with 1 Axes>"
      ]
     },
     "metadata": {
      "needs_background": "light"
     },
     "output_type": "display_data"
    }
   ],
   "source": [
    "kmeans = KMeans(n_clusters = 3, random_state = 0)\n",
    "y_kmeans = kmeans.fit_predict(x) # Compute cluster centers and predict cluster index for each sample\n",
    "\n",
    "# Plot the 3 groups for the sepal length and width\n",
    "plt.scatter(x[y_kmeans == 0][:,0], x[y_kmeans == 0][:,1], marker = 'x', c = 'cyan', label = 'Iris-setosa')\n",
    "plt.scatter(x[y_kmeans == 1][:,0], x[y_kmeans == 1][:,1], marker = 'x', c = 'magenta', label = 'Iris-versicolour')\n",
    "plt.scatter(x[y_kmeans == 2][:,0], x[y_kmeans == 2][:,1], marker = 'x', c = 'green', label = 'Iris-virginica')\n",
    "\n",
    "# Show the location of the centroids\n",
    "plt.scatter(kmeans.cluster_centers_[:, 0], kmeans.cluster_centers_[:,1], s = 100, c = 'black', label = 'Centroids')\n",
    "\n",
    "plt.legend()\n",
    "plt.xlabel('Sepal Length')\n",
    "plt.ylabel('Sepal Width')"
   ]
  },
  {
   "cell_type": "markdown",
   "metadata": {},
   "source": [
    "In the above graph we can see the predicted centroid locations overlaid on the dataset given for each category of iris flower sepal length and width values. At a glance we can see that the centroids look in their approximate correct location. We can also see there is significant overlap between the Iris-Virginica an the Iris-setosa species. This could potentially lead to mis labelled plants creating an error in the model. Perhaps it is best to compare plant types by the petal length and width instead of the sepal. We will be using the same dataset but different values for the x and y labels."
   ]
  },
  {
   "cell_type": "code",
   "execution_count": 20,
   "metadata": {},
   "outputs": [
    {
     "data": {
      "text/plain": [
       "Text(0, 0.5, 'Petal Width')"
      ]
     },
     "execution_count": 20,
     "metadata": {},
     "output_type": "execute_result"
    },
    {
     "data": {
      "image/png": "[encoded data removed]",
      "text/plain": [
       "<Figure size 432x288 with 1 Axes>"
      ]
     },
     "metadata": {
      "needs_background": "light"
     },
     "output_type": "display_data"
    }
   ],
   "source": [
    "# Plot the 3 groups for the petal length and width\n",
    "plt.scatter(x[y_kmeans == 0][:,2], x[y_kmeans == 0][:,3], c = 'cyan', marker = 'x', label = 'Iris-setosa')\n",
    "plt.scatter(x[y_kmeans == 1][:,2], x[y_kmeans == 1][:,3], c = 'magenta', marker = 'x', label = 'Iris-versicolour')\n",
    "plt.scatter(x[y_kmeans == 2][:,2], x[y_kmeans == 2][:,3], c = 'green', marker = 'x', label = 'Iris-virginica')\n",
    "\n",
    "# Show the location of the centroids\n",
    "plt.scatter(kmeans.cluster_centers_[:, 2], kmeans.cluster_centers_[:,3], s = 100, c = 'black', label = 'Centroids')\n",
    "\n",
    "plt.legend()\n",
    "plt.xlabel('Petal Length')\n",
    "plt.ylabel('Petal Width')"
   ]
  },
  {
   "cell_type": "markdown",
   "metadata": {},
   "source": [
    "From the above we can see that this method would be a much better prediction of the flower type due to the greater seperation between the centroids in the data. Next we will look at predicting the flower type of some randomly generated linear data."
   ]
  },
  {
   "cell_type": "markdown",
   "metadata": {},
   "source": [
    "##  Predictions\n",
    "\n",
    "To make predictions of the correct flower type we must first generate some data. To do this we will use the numpy.linspace function to generate some evenly spread data between the min and max values of all the data available. With enough reference points we can see the clear transition from one flower type to the next given by it's proximity to the centroid.  "
   ]
  },
  {
   "cell_type": "code",
   "execution_count": 21,
   "metadata": {},
   "outputs": [
    {
     "name": "stdout",
     "output_type": "stream",
     "text": [
      "[[4.3        2.         1.         0.1       ]\n",
      " [4.7        2.26666667 1.65555556 0.36666667]\n",
      " [5.1        2.53333333 2.31111111 0.63333333]\n",
      " [5.5        2.8        2.96666667 0.9       ]\n",
      " [5.9        3.06666667 3.62222222 1.16666667]\n",
      " [6.3        3.33333333 4.27777778 1.43333333]\n",
      " [6.7        3.6        4.93333333 1.7       ]\n",
      " [7.1        3.86666667 5.58888889 1.96666667]\n",
      " [7.5        4.13333333 6.24444444 2.23333333]\n",
      " [7.9        4.4        6.9        2.5       ]]\n"
     ]
    },
    {
     "data": {
      "text/plain": [
       "array([1, 1, 1, 2, 2, 2, 0, 0, 0, 0])"
      ]
     },
     "execution_count": 21,
     "metadata": {},
     "output_type": "execute_result"
    }
   ],
   "source": [
    "# Generate data for the speal and petal lengths and widths\n",
    "myseplen = np.linspace(4.3, 7.9, 10)\n",
    "mysepwid = np.linspace(2, 4.4, 10)\n",
    "mypetlen = np.linspace(1, 6.9, 10)\n",
    "mypetwid = np.linspace(0.1, 2.5, 10)\n",
    "\n",
    "# Stack the values and transpose them to fit the function to be used for plottingf\n",
    "mynewvals = np.vstack([myseplen, mysepwid, mypetlen, mypetwid]).T\n",
    "print(mynewvals)\n",
    "\n",
    "mypredictions = kmeans.predict(mynewvals)\n",
    "mypredictions"
   ]
  },
  {
   "cell_type": "markdown",
   "metadata": {},
   "source": [
    "From the above we can see the values printed in increasing order and the predictions of the flower type below this where cluster 0 corresponds to Iris-setosa, 1 corresponds to Iris-versicolour  and 2 corresponds to Iris-virginica. We can now overlay this data to get a better idea of how it corresponds with our known data first looking at the sepal length and width and then the petal length and width."
   ]
  },
  {
   "cell_type": "code",
   "execution_count": 22,
   "metadata": {},
   "outputs": [
    {
     "data": {
      "text/plain": [
       "Text(0, 0.5, 'Sepal Width')"
      ]
     },
     "execution_count": 22,
     "metadata": {},
     "output_type": "execute_result"
    },
    {
     "data": {
      "image/png": "[encoded data removed]",
      "text/plain": [
       "<Figure size 432x288 with 1 Axes>"
      ]
     },
     "metadata": {
      "needs_background": "light"
     },
     "output_type": "display_data"
    }
   ],
   "source": [
    "# Plot the 3 groups for the sepal length and width\n",
    "plt.scatter(x[y_kmeans == 0][:,0], x[y_kmeans == 0][:,1], c = 'cyan', marker = 'x', label = 'Iris-setosa')\n",
    "plt.scatter(x[y_kmeans == 1][:,0], x[y_kmeans == 1][:,1], c = 'magenta', marker = 'x', label = 'Iris-versicolour')\n",
    "plt.scatter(x[y_kmeans == 2][:,0], x[y_kmeans == 2][:,1], c = 'green', marker = 'x', label = 'Iris-virginica')\n",
    "\n",
    "# Show the location of the centroids\n",
    "plt.scatter(kmeans.cluster_centers_[:, 0], kmeans.cluster_centers_[:,1], s = 100, c = 'black', label = 'Centroids')\n",
    "\n",
    "# Plot the mynewvals for the predictions for the sepal length and width\n",
    "plt.plot(mynewvals[mypredictions == 0][:,0], mynewvals[mypredictions == 0][:,1], 'co')\n",
    "plt.plot(mynewvals[mypredictions == 1][:,0], mynewvals[mypredictions == 1][:,1], 'mo')\n",
    "plt.plot(mynewvals[mypredictions == 2][:,0], mynewvals[mypredictions == 2][:,1], 'go')\n",
    "\n",
    "plt.legend()\n",
    "plt.xlabel('Sepal Length')\n",
    "plt.ylabel('Sepal Width')"
   ]
  },
  {
   "cell_type": "code",
   "execution_count": 23,
   "metadata": {},
   "outputs": [
    {
     "data": {
      "text/plain": [
       "Text(0, 0.5, 'Petal Width')"
      ]
     },
     "execution_count": 23,
     "metadata": {},
     "output_type": "execute_result"
    },
    {
     "data": {
      "image/png": "[encoded data removed]",
      "text/plain": [
       "<Figure size 432x288 with 1 Axes>"
      ]
     },
     "metadata": {
      "needs_background": "light"
     },
     "output_type": "display_data"
    }
   ],
   "source": [
    "# Plot the 3 groups for the petal length and width\n",
    "plt.scatter(x[y_kmeans == 0][:,2], x[y_kmeans == 0][:,3], c = 'cyan', marker = 'x', label = 'Iris-setosa')\n",
    "plt.scatter(x[y_kmeans == 1][:,2], x[y_kmeans == 1][:,3], c = 'magenta', marker = 'x', label = 'Iris-versicolour')\n",
    "plt.scatter(x[y_kmeans == 2][:,2], x[y_kmeans == 2][:,3], c = 'green', marker = 'x', label = 'Iris-virginica')\n",
    "\n",
    "# Show the location of the centroids\n",
    "plt.scatter(kmeans.cluster_centers_[:, 2], kmeans.cluster_centers_[:,3], s = 100, c = 'black', label = 'Centroids')\n",
    "\n",
    "# Plot the mynewvals for the predictions for the petal length and width\n",
    "plt.plot(mynewvals[mypredictions == 0][:,2], mynewvals[mypredictions == 0][:,3], 'co')\n",
    "plt.plot(mynewvals[mypredictions == 1][:,2], mynewvals[mypredictions == 1][:,3], 'mo')\n",
    "plt.plot(mynewvals[mypredictions == 2][:,2], mynewvals[mypredictions == 2][:,3], 'go')\n",
    "\n",
    "plt.legend()\n",
    "plt.xlabel('Petal Length')\n",
    "plt.ylabel('Petal Width')"
   ]
  },
  {
   "cell_type": "markdown",
   "metadata": {},
   "source": [
    "## Conclusion\n",
    "\n",
    "The above further proves that the petal dimensions are a better predicter of the fower type due to the greater seperation between the centroid locations reducing the potantial of overlap and mis labelling of the flower type. This can be a limitation of the k-clustering method as it relies on centroids with specific diameters around them to predict which cluster the data belongs to. For uneven data such as in the sepal lengths and widths described above this  can lead to errors in predictions. This can be mitigated against by generalising the k-means and having varying widths across clusters and dimensions.  The location of the centroid can also be largely influenced by outliers which could significantly change  the value taken. <sup>[[4.6]](#Source4)</sup>\n",
    "\n",
    "Other limitations of k-means is that it only works with numerical data and cannot be used on other data such as strings.  This requires sanitising data before the k-means function can be used such as what we used above to remove the category column from the iris dataset.<sup>[[4.7]](#Source4)</sup> \n",
    "\n",
    "K-means is known as an unsupervised algorithm. This means it infers patterns from an input dataset without any reference to outcomes. This means linear regression or classification cannot be applied as there is no way to know what the output data may be.<sup>[[4.8]](#Source4)</sup>"
   ]
  },
  {
   "cell_type": "markdown",
   "metadata": {},
   "source": [
    "### <a id='Source4'>Sources</a>\n",
    "\n",
    "[4.1] towarddatascience.com, \"K-means Clustering: Algorithm, Applications, Evaluation Methods, and Drawbacks\", [online], https://towardsdatascience.com/k-means-clustering-algorithm-applications-evaluation-methods-and-drawbacks-aa03e644b48a\n",
    "\n",
    "[4.2] scikit-learn.org, \"K-means\", [online], https://scikit-learn.org/stable/modules/clustering.html#k-means\n",
    "\n",
    "[4.3] scikit-learn.org, \"K-means clustering\", [online], https://scikit-learn.org/stable/modules/generated/sklearn.cluster.KMeans.html#sklearn.cluster.KMeans\n",
    "\n",
    "[4.4] scikit-learn.org, \"Elbow Method\", [online], https://www.scikit-yb.org/en/latest/api/cluster/elbow.html\n",
    "\n",
    "[4.5] kaggle.com, \"K-Means Clustering of Iris Dataset\", [online], https://www.kaggle.com/khotijahs1/k-means-clustering-of-iris-dataset\n",
    "\n",
    "[4.6] developers.google.com, \"k-Means Advantages and Disadvantages\", [online], https://developers.google.com/machine-learning/clustering/algorithm/advantages-disadvantages\n",
    "\n",
    "[4.7] inovex.de, \"Anomaly Detection: (Dis-)advantages of k-means clustering\", [online], https://www.inovex.de/blog/disadvantages-of-k-means-clustering/#:~:text=The%20most%20important%20limitations%20of,roughly%20equal%20numbers%20of%20observations\n",
    "\n",
    "[4.8] towardsdatascience.com, \"Understanding K-means Clustering in Machine Learning\", [online], https://towardsdatascience.com/understanding-k-means-clustering-in-machine-learning-6a6e67336aa1#:~:text=5%20min%20read-,K%2Dmeans%20clustering%20is%20one%20of%20the%20simplest,popular%20unsupervised%20machine%20learning%20algorithms.&text=In%20other%20words%2C%20the%20K,centroids%20as%20small%20as%20possible."
   ]
  },
  {
   "cell_type": "code",
   "execution_count": null,
   "metadata": {},
   "outputs": [],
   "source": []
  }
 ],
 "metadata": {
  "kernelspec": {
   "display_name": "Python 3",
   "language": "python",
   "name": "python3"
  },
  "language_info": {
   "codemirror_mode": {
    "name": "ipython",
    "version": 3
   },
   "file_extension": ".py",
   "mimetype": "text/x-python",
   "name": "python",
   "nbconvert_exporter": "python",
   "pygments_lexer": "ipython3",
   "version": "3.8.5"
  }
 },
 "nbformat": 4,
 "nbformat_minor": 4
}
