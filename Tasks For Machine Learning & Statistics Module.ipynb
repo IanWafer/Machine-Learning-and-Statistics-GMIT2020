{
 "cells": [
  {
   "cell_type": "markdown",
   "metadata": {},
   "source": [
    "# Task 1 SQRT2()"
   ]
  },
  {
   "cell_type": "markdown",
   "metadata": {},
   "source": [
    "## Introduction\n",
    "\n",
    "We have been tasked with writing a  Python function that calculates the square root of 2 and prints it to the screen to 100 decimal places.\n",
    "\n",
    "The square root of a number is a specified quantity given when multiplied by itself. In mathematics it is generally represented  by the radical sign or radix √. It must be a positive number though in mathematics square roots of negative numbers are sometimes used and  are  known as imaginary numbers. The square root of 2 is known as an irrtaional number as it cannot be expressed as a fraction and has a never ending number of decimal numbers. \n",
    "\n",
    "## History\n",
    "\n",
    "The Pythagorean philosophers had a great focus on numbers and geometry and and guarded it as secret knowledge believeing they wwere gaining insight into  the make up of the universe itself. They believed all numbers were rational and could be expressed as a ratio of integer values. \n",
    "\n",
    "It is believed  that their belief in this concept was so strong that when when Hippasus discovered irrational numbers he was thrown from a boat and left to drown though this  event is seen as more of a myth than concrete factual truth due to conflicting reports from Iamblichus.<sup>[1.1]</sup>\n",
    "\n",
    "## Limitations\n",
    "\n",
    "Python has some built in limitations on how it runs its calculations. This is due to the fact that Python works on a base 2 system which cannot represent all decimal fractions exactly. This results in decimal floating-point numbers being approximated by the binary number stored. Floats are generally calculated using the first 53 bits beginning with the significant bit with a denominator as a power of 2.\n",
    "\n",
    "This is not a unique feature of a binary system. All base systems have limitations on their accuracies. If we consider our well understood base 10 system the fraction 1/3 can never be brought to it's full decimal representation. It can be shown to be 0.3, 0.33,  0.333 etc. Each additionnal decimal point brings us closer to the true value but we never reach the final value.<sup>[1.2]</sup>\n",
    "\n",
    "## Computational Methods\n",
    "\n",
    "There are several computational methods of calcluting the squareroot of a number. We shall be delving into the below methods-\n",
    "* Babylonian Method\n",
    "* Newton-Raphson Method\n",
    "\n",
    "## Babylonian Method\n",
    "\n",
    "This was one of the first known alogorithms for computing the square root of a number. It is believed to have been discovered in about 1,500BC by the babylonians and is also known as the Heron's Method. It works by guessing an initial over estimate number x<sub>0</sub> to the square root of a non negative real number S. Then S/x<sub>0</sub> will be an under estimate providing a better approximation of the real value by an average of the 2 numbers using the below formula. This is a special case of the Newton formula as you can see in the Newton-Raphson method below. <sup>[1.3][1.4]</sup>\n",
    "\n",
    "<img align=\"left\" src=\"images/Task_1/babylonian_average.png\">"
   ]
  },
  {
   "cell_type": "code",
   "execution_count": 14,
   "metadata": {},
   "outputs": [
    {
     "name": "stdout",
     "output_type": "stream",
     "text": [
      "Iteration 1 value is 1.5\n",
      "Iteration 2 value is 1.4166666666666665\n",
      "Iteration 3 value is 1.4142156862745097\n",
      "Iteration 4 value is 1.4142135623746899\n",
      "Iteration 5 value is 1.414213562373095\n",
      "Iteration 6 value is 1.414213562373095\n"
     ]
    },
    {
     "data": {
      "text/plain": [
       "'1.4142135623730949234300169337075203657150268554687500000000000000000000000000000000000000000000000000'"
      ]
     },
     "execution_count": 14,
     "metadata": {},
     "output_type": "execute_result"
    }
   ],
   "source": [
    "def BABYLONIAN(n): # https://www.w3resource.com/python-exercises/math/python-math-exercise-18.php\n",
    "    \n",
    "    if(n == 0):\n",
    "        return 0;\n",
    "\n",
    "    g = n/2.0; #First guess \n",
    "    g2 = g + 1; \n",
    "    Iteration = 1;\n",
    "    while(g != g2):      \n",
    "        num = n/ g;\n",
    "        g2 = g;\n",
    "        g = (g + num)/2;\n",
    "        print(\"Iteration\", Iteration, \"value is\",g)\n",
    "        Iteration = Iteration + 1\n",
    "\n",
    "    return (\"%.100f\" %g)\n",
    "\n",
    "BABYLONIAN(2)"
   ]
  },
  {
   "cell_type": "markdown",
   "metadata": {},
   "source": [
    "While this does give us an approximate value of the square root off 2 this still does not solve thhe issue at hand to find thhe square root of 2 due to thhe limitations of pythong mentioned above. \n",
    "\n",
    "From the government organsiation Nasa we can see that the square root of 2 to 100 decimal place is 1.4142135623730950488016887242096980785696718753769480731766797379907324784621070388503875343276415727<sup>[1.5]</sup>\n",
    "\n",
    "To overcome this we will be using thee Newton-Raphson method shown below with the new greatly increased to remove the float limitations. "
   ]
  },
  {
   "cell_type": "markdown",
   "metadata": {},
   "source": [
    "## Newton-Raphson Method\n",
    "\n",
    "The Newton-Raphson method is an iterative method where each succesive iteration brings the result closer to the true value of the answer after finding a suitable starting value. The closer the initially selected value is to the answer the less itteratons  are required to produce the answer. It uses the idea that a continuous and differentiable function can be approximated by a straight line tangent to it.\n",
    "\n",
    "If x = √a for a > 0 then we need to solve for x<sup>2</sup> = a. To start Newtons method of solving this problem we need to have some guess for the value of x where x<sub>1</sub>>0. \n",
    "\n",
    "We can then begin with the first iteration with a single variable function f and an initial guess x<sub>0</sub> \n",
    "\n",
    "<img align=\"left\" src=\"images/Task_1/first_iteration.png\"><br><br>\n",
    "\n",
    "Succesive iterations can then be represented by the formula-\n",
    "\n",
    "<img align=\"left\" src=\"images/Task_1/newton_function_formula.png\"><br><br>\n",
    "\n",
    "This can be further developed into the equation below to calculate our new iterative values-\n",
    "\n",
    "<img align=\"left\" src=\"images/Task_1/newton_formula.PNG\"><br><br>\n",
    "\n",
    "Each iteration calculated will bring us closer to the true value required. Belowe we can see the code required to calculate the value of the squre root we require to the correct decimal  precision. To do this we have greatly incresed the initial value to overcome the limitations of pythons floats and then at the end cut it back down to give us the value we require.<sup>[1.6][1.7][1.8][1.9]</sup>"
   ]
  },
  {
   "cell_type": "code",
   "execution_count": 3,
   "metadata": {},
   "outputs": [
    {
     "name": "stdout",
     "output_type": "stream",
     "text": [
      "1.4142135623730950488016887242096980785696718753769480731766797379907324784621070388503875343276415727\n"
     ]
    }
   ],
   "source": [
    "def NEWTON(n): # https://stackoverflow.com/questions/64278117/is-there-a-way-to-create-more-decimal-points-on-python-without-importing-a-libra\n",
    "    x = n * 10 ** 200 # Value increased to get required precision due to Python limitations\n",
    "    r = x\n",
    "\n",
    "    if(x == 0):\n",
    "        return 0;\n",
    "    \n",
    "    def test_diffs(x, r):\n",
    "        d0 = abs(x - r**2)\n",
    "        dm = abs(x - (r-1)**2)\n",
    "        dp = abs(x - (r+1)**2)\n",
    "        minimised = d0 <= dm and d0 <= dp\n",
    "        below_min = dp < dm\n",
    "        return minimised, below_min\n",
    "\n",
    "    while True:\n",
    "        oldr = r\n",
    "        r = (r + x // r) // 2\n",
    "\n",
    "        minimised, below_min = test_diffs(x, r)\n",
    "        if minimised:\n",
    "            break\n",
    "\n",
    "        if r == oldr:\n",
    "            if below_min:\n",
    "                r += 1\n",
    "            else:\n",
    "                r -= 1\n",
    "            minimised, _ = test_diffs(x, r)\n",
    "            if minimised:\n",
    "                break\n",
    "\n",
    "    print(f'{r // 10**100}.{r % 10**100:0100d}')\n",
    "\n",
    "NEWTON(2)"
   ]
  },
  {
   "cell_type": "markdown",
   "metadata": {},
   "source": [
    "## Conclusion\n",
    "\n",
    "Due too the limitations of pythons ability to count floats the number had to be greatly increased to determine an accurate value of the required square root and then divided  back down again before displaying the final answer. The base 2 system should always be a consideration when runing any kind of calculations especially in an environment where pin point accuracy is essential for effective implementation of the code."
   ]
  },
  {
   "cell_type": "markdown",
   "metadata": {},
   "source": [
    "## Sources-\n",
    "\n",
    "[1.1] wikipedia.org, \"Hippasus\", [online], https://en.wikipedia.org/wiki/Hippasus#Irrational_numbers\n",
    "\n",
    "[1.2] python.org, \"floating Point\", [online], https://docs.python.org/3/tutorial/floatingpoint.html\n",
    "\n",
    "[1.3] wikipedia.org, \"Methods of computing square roots\", [online], https://en.wikipedia.org/wiki/Methods_of_computing_square_roots#Babylonian_method\n",
    "\n",
    "[1.4] w3resource, \"python exercises\"https://www.w3resource.com/python-exercises/math/python-math-exercise-18.php\n",
    "\n",
    "[1.5] apod.nasa.gov, \"sqrt2\", [online], https://apod.nasa.gov/htmltest/gifcity/sqrt2.1mil\n",
    "\n",
    "[1.6] wikipedia.org, \"Newtons Method\", [online], https://en.wikipedia.org/wiki/Newton%27s_method\n",
    "\n",
    "[1.7] brilliant, \"newton-sqrt\", [online], https://brilliant.org/wiki/newton-raphson-method/\n",
    "\n",
    "[1.8] math.mit.edu, \"newton-sqrt\", [online], https://math.mit.edu/~stevenj/18.335/newton-sqrt.pdf\n",
    "\n",
    "[1.9] cosmomagazine.com, \"the-square-root-of-2\", [online], https://cosmosmagazine.com/mathematics/the-square-root-of-2/"
   ]
  },
  {
   "cell_type": "markdown",
   "metadata": {},
   "source": [
    "# Task 2 Chi-squared Test"
   ]
  },
  {
   "cell_type": "markdown",
   "metadata": {},
   "source": [
    "## Introduction\n",
    "\n",
    "Task 2 has specified that we need to use the scipy.stats to verify the chi-squared value of the of the array given as shown below and calculate its  associated <i>p</i> value. We also need to include a short note with references justifying the analysis  in a markdown cell.\n",
    "\n",
    "![chi_squared_array](images/Task_2/chi_squared_array.png)\n",
    "\n",
    "The chi squared test can also be written as the <i>χ<sup>2</sup></i>. It is an statistical hypothesis test for checking if two categorical variables are related in some population by checking if there is a statistically significant difference between the expected outcomes and the observed frequencies in the categories of a contingency table. It was published in a paper by Karl Pearson in 1900 and is considered a foundation of modern statistics. <sup>[2.1]</sup><sup>[2.2]</sup>\n",
    "\n",
    "The purpose of the test is to evaluate a null hypotesis showing the frequency distribution of events in a certain sample  size are\n",
    "\n",
    "The chi-squared test is used regularly in cryptographic problems and bioinformatics in comparing properties of genes."
   ]
  },
  {
   "cell_type": "code",
   "execution_count": 29,
   "metadata": {},
   "outputs": [
    {
     "name": "stdout",
     "output_type": "stream",
     "text": [
      "Contingency Table\n",
      "                A    B    C    D  Total\n",
      "White Collar   90   60  104   95    349\n",
      "Blue Collar    30   50   51   20    151\n",
      "No Collar      30   40   45   35    150\n",
      "Total         150  150  200  150    650\n",
      "Stat: 24.571202858582602\n",
      "p value: 0.016990737760739776\n",
      "Degrees of freedom: 12\n",
      "[[ 80.53846154  80.53846154 107.38461538  80.53846154 349.        ]\n",
      " [ 34.84615385  34.84615385  46.46153846  34.84615385 151.        ]\n",
      " [ 34.61538462  34.61538462  46.15384615  34.61538462 150.        ]\n",
      " [150.         150.         200.         150.         650.        ]]\n",
      "\n",
      "Interpret test-statistic\n",
      "probability=0.95, critical=21.03, stat=24.6\n",
      "Dependent (reject H0)\n",
      "\n",
      "Interpret p-value\n",
      "significance=0.050, p=0.017\n",
      "Dependent (reject H0)\n"
     ]
    }
   ],
   "source": [
    "import seaborn as sns\n",
    "import pandas as pd\n",
    "import numpy as np\n",
    "import scipy.stats as ss\n",
    "\n",
    "table = pd.DataFrame([[90,60,104,95,349],[30,50,51,20,151],[30,40,45,35,150],[150,150,200,150,650]], index=[\"White Collar\",\"Blue Collar\",\"No Collar\",\"Total\"], columns=[\"A\",\"B\",\"C\",\"D\",\"Total\"])\n",
    "print(\"Contingency Table\")\n",
    "print(table)\n",
    "\n",
    "stat,p,dof,expected = ss.chi2_contingency(table) \n",
    "print(\"Stat:\",stat) #  Sum of the totals chi square points. Chi square points =(Observed  Expected)^2/Expected \n",
    "print(\"p value:\",p) # \n",
    "print('Degrees of freedom: %d' % dof) # degrees of freedom (total columns -1)*(total rows -1)\n",
    "print(expected) # expected return array\n",
    "\n",
    "print(\"\\nInterpret test-statistic\")\n",
    "prob = 0.95\n",
    "critical = ss.chi2.ppf(prob, dof)\n",
    "\n",
    "print('probability=%.2f, critical=%.2f, stat=%.1f' % (prob, critical, stat))\n",
    "\n",
    "if abs(stat) >= critical:\n",
    "    print('Dependent (reject H0)')\n",
    "else:\n",
    "    print('Independent (fail to reject H0)')\n",
    "    \n",
    "print(\"\\nInterpret p-value\")\n",
    "alpha = 1.0 - prob\n",
    "print('significance=%.3f, p=%.3f' % (alpha, p))\n",
    "\n",
    "if p <= alpha:\n",
    "    print('Dependent (reject H0)')\n",
    "else:\n",
    "    print('Independent (fail to reject H0)')\n"
   ]
  },
  {
   "cell_type": "markdown",
   "metadata": {},
   "source": [
    "## Sources-\n",
    "\n",
    "[2.1] wikipedia.org, \"Chi-squared_test\", [online], https://en.wikipedia.org/wiki/Chi-squared_test\n",
    "[2.2] wikipedia.org, \"Pearson's chi-squared test\", [online], https://en.wikipedia.org/wiki/Pearson%27s_chi-squared_test\n",
    "\n",
    "https://machinelearningmastery.com/chi-squared-test-for-machine-learning/"
   ]
  },
  {
   "cell_type": "code",
   "execution_count": null,
   "metadata": {},
   "outputs": [],
   "source": []
  },
  {
   "cell_type": "code",
   "execution_count": null,
   "metadata": {},
   "outputs": [],
   "source": []
  },
  {
   "cell_type": "code",
   "execution_count": null,
   "metadata": {},
   "outputs": [],
   "source": []
  }
 ],
 "metadata": {
  "kernelspec": {
   "display_name": "Python 3",
   "language": "python",
   "name": "python3"
  },
  "language_info": {
   "codemirror_mode": {
    "name": "ipython",
    "version": 3
   },
   "file_extension": ".py",
   "mimetype": "text/x-python",
   "name": "python",
   "nbconvert_exporter": "python",
   "pygments_lexer": "ipython3",
   "version": "3.8.3"
  }
 },
 "nbformat": 4,
 "nbformat_minor": 4
}
