{
 "cells": [
  {
   "cell_type": "markdown",
   "metadata": {},
   "source": [
    "# Task 1 SQRT2()"
   ]
  },
  {
   "attachments": {
    "image1.PNG": {
     "image/png": "[encoded data removed]"
    }
   },
   "cell_type": "markdown",
   "metadata": {},
   "source": [
    "We have been tasked with writing a  Python function that calculates the square root of 2 and prints it to the screen to 100 decimal places.\n",
    "\n",
    "The square root of a number is a specified quantity given when multiplied by itself. In mathematics it is generally represented  by the radical sign or radix √. It must be a positive number though in mathematics square roots of negative numbers are sometimes used and  are  known as imaginary numbers. \n",
    "\n",
    "After some investigation into the limits of Pythons in built functions such as floats only calculating to 53 decimal points it would appear that Newtons Method (or Newton-Raphson method) would be the most accurate form of calculation. \n",
    "\n",
    "If x = √a for a > 0 then we need to solve for x^2 = a. To start Newtons method of solving this problem we need to have some guess for the value of x where x1>0. We can then use the formula below to compute an iteration of the actual value. \n",
    "\n",
    "![image1.PNG](attachment:image1.PNG)\n",
    "\n",
    "Thisncan be further represented by the equation below to calculate our new iterative values-\n",
    "\n",
    "![image2.PNG](attachment:image2.PNG)\n",
    "\n",
    "Each iteration calculated will bring us closer to the true value required. "
   ]
  },
  {
   "cell_type": "code",
   "execution_count": 22,
   "metadata": {},
   "outputs": [
    {
     "name": "stdout",
     "output_type": "stream",
     "text": [
      "1.414213562373095e+100\n"
     ]
    }
   ],
   "source": [
    "# Python3 implementation of the approach \n",
    "\n",
    "# Function to return the square root of \n",
    "# a number using Newtons method \n",
    "def squareRoot(n, l) : \n",
    "\n",
    "    # Assuming the sqrt of n as n only \n",
    "    n = n * 10 ** 200\n",
    "    x = n \n",
    "\n",
    "    # To count the number of iterations \n",
    "    count = 0\n",
    "\n",
    "    while (1) : \n",
    "        count += 1\n",
    "\n",
    "        # Calculate more closed x \n",
    "        root = 0.5 * (x + (n / x)) \n",
    "\n",
    "        # Check for closeness \n",
    "        if (abs(root - x) < l) : \n",
    "            break\n",
    "\n",
    "        # Update root \n",
    "        x = root \n",
    "\n",
    "    return root \n",
    "\n",
    "# Driver code \n",
    "if __name__ == \"__main__\" : \n",
    "\n",
    "    n = 2\n",
    "    l = 0.000001\n",
    "\n",
    "    print(squareRoot(n, l)) \n",
    "\n",
    "# This code is contributed by AnkitRai01 \n"
   ]
  },
  {
   "cell_type": "code",
   "execution_count": 12,
   "metadata": {},
   "outputs": [
    {
     "name": "stdout",
     "output_type": "stream",
     "text": [
      "1.4142135623730950488016887242096980785696718753769480731766797379907324784621070388503875343276415727\n"
     ]
    }
   ],
   "source": [
    "x = 2 * 10 ** 200 # Value increased to get required precision due to Python limitations\n",
    "\n",
    "r = x\n",
    "\n",
    "def test_diffs(x, r):\n",
    "    d0 = abs(x - r**2)     # -2\n",
    "    dm = abs(x - (r-1)**2) # 1\n",
    "    dp = abs(x - (r+1)**2) # -7\n",
    "    minimised = d0 <= dm and d0 <= dp\n",
    "    below_min = dp < dm\n",
    "    return minimised, below_min\n",
    "\n",
    "\n",
    "\n",
    "while True:\n",
    "    oldr = r\n",
    "    r = (r + x // r) // 2\n",
    "\n",
    "    minimised, below_min = test_diffs(x, r)\n",
    "    if minimised:\n",
    "        break\n",
    "\n",
    "    if r == oldr:\n",
    "        if below_min:\n",
    "            r += 1\n",
    "        else:\n",
    "            r -= 1\n",
    "        minimised, _ = test_diffs(x, r)\n",
    "        if minimised:\n",
    "            break\n",
    "\n",
    "print(f'{r // 10**100}.{r % 10**100:0100d}')\n"
   ]
  },
  {
   "cell_type": "code",
   "execution_count": 2,
   "metadata": {},
   "outputs": [],
   "source": [
    "def SQRT(n):\n",
    "    TEST=len(str(n))\n",
    "    n = n*100**100\n",
    "    n = n**(1/2)\n",
    "    \n",
    "    n = str(\"{:.0f}\".format(n))\n",
    "    \n",
    "    n = n[:1] + '.' + n[1:]\n",
    "    print(n)"
   ]
  },
  {
   "cell_type": "code",
   "execution_count": 18,
   "metadata": {},
   "outputs": [
    {
     "name": "stdout",
     "output_type": "stream",
     "text": [
      "1.4142135623730950271424125632818586983491648817919875481779003888601306842716543030228210043498528768\n"
     ]
    }
   ],
   "source": [
    "SQRT(2)"
   ]
  },
  {
   "cell_type": "markdown",
   "metadata": {},
   "source": [
    "Sources-\n",
    "[1] https://math.mit.edu/~stevenj/18.335/newton-sqrt.pdf"
   ]
  },
  {
   "cell_type": "code",
   "execution_count": 3,
   "metadata": {},
   "outputs": [
    {
     "data": {
      "text/plain": [
       "Decimal('1.4142135623730950488016887242096980785696718753769480731766797379907324784621070388503875343276415727')"
      ]
     },
     "execution_count": 3,
     "metadata": {},
     "output_type": "execute_result"
    }
   ],
   "source": [
    "from decimal import *\n",
    "getcontext().prec = 101\n",
    "Decimal(2).sqrt()\n",
    "\n"
   ]
  },
  {
   "cell_type": "markdown",
   "metadata": {},
   "source": [
    "Actual value of the square root of 2 taken from the Nasa website is  1.4142135623730950488016887242096980785696718753769480731766797379907324784621\n",
    "    07038850387534327641573"
   ]
  }
 ],
 "metadata": {
  "kernelspec": {
   "display_name": "Python 3",
   "language": "python",
   "name": "python3"
  },
  "language_info": {
   "codemirror_mode": {
    "name": "ipython",
    "version": 3
   },
   "file_extension": ".py",
   "mimetype": "text/x-python",
   "name": "python",
   "nbconvert_exporter": "python",
   "pygments_lexer": "ipython3",
   "version": "3.8.3"
  }
 },
 "nbformat": 4,
 "nbformat_minor": 4
}
